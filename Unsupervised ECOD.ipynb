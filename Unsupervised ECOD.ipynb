{
 "cells": [
  {
   "cell_type": "code",
   "execution_count": 2,
   "metadata": {
    "collapsed": true,
    "pycharm": {
     "name": "#%%\n"
    }
   },
   "outputs": [],
   "source": [
    "#IMPORTO LIBRERIE\n",
    "import pandas as pd"
   ]
  },
  {
   "cell_type": "code",
   "execution_count": 3,
   "outputs": [
    {
     "data": {
      "text/plain": "(90960, 16)"
     },
     "execution_count": 3,
     "metadata": {},
     "output_type": "execute_result"
    }
   ],
   "source": [
    "labeled_df = pd.read_csv('labeled_df.csv')\n",
    "labeled_df.shape"
   ],
   "metadata": {
    "collapsed": false,
    "pycharm": {
     "name": "#%%\n"
    }
   }
  },
  {
   "cell_type": "code",
   "execution_count": 4,
   "outputs": [
    {
     "data": {
      "text/plain": "   customerId                timestamp  country   amount  \\\n0    93000801  2021-09-15 16:13:35.147        6   150.00   \n1    93000801  2021-08-24 10:34:24.487        5  3200.00   \n2    93000801   2021-09-14 16:21:43.33        6  8350.00   \n3    93001001  2021-06-30 09:07:16.733        6   500.00   \n4    93001001  2021-07-12 16:36:02.857        6  1895.68   \n\n                       businessName  userAgent_isPc  userAgent_browserFamily  \\\n0  c7543b6f04850eae288aa52783b33363               1                        4   \n1  c7543b6f04850eae288aa52783b33363               1                        4   \n2  c7543b6f04850eae288aa52783b33363               1                        4   \n3  3f241dfcc38064261fec0f303c2784e5               1                        0   \n4  a5d1eaffa8e325d370665f43624339a1               1                        0   \n\n   userAgent_osFamily  IBAN_countryCode  IBAN_bankCode   SIA  CAP  SAE  RAE  \\\n0                   5                17            699  2013  144   19  113   \n1                   5                17            699  2013  144   19  113   \n2                   5                17            699  2013  144   19  113   \n3                   5                17            123  1781   90    8   99   \n4                   5                17            285  1781   90    8   99   \n\n   companyType  \n0            5  \n1            5  \n2            5  \n3           10  \n4           10  ",
      "text/html": "<div>\n<style scoped>\n    .dataframe tbody tr th:only-of-type {\n        vertical-align: middle;\n    }\n\n    .dataframe tbody tr th {\n        vertical-align: top;\n    }\n\n    .dataframe thead th {\n        text-align: right;\n    }\n</style>\n<table border=\"1\" class=\"dataframe\">\n  <thead>\n    <tr style=\"text-align: right;\">\n      <th></th>\n      <th>customerId</th>\n      <th>timestamp</th>\n      <th>country</th>\n      <th>amount</th>\n      <th>businessName</th>\n      <th>userAgent_isPc</th>\n      <th>userAgent_browserFamily</th>\n      <th>userAgent_osFamily</th>\n      <th>IBAN_countryCode</th>\n      <th>IBAN_bankCode</th>\n      <th>SIA</th>\n      <th>CAP</th>\n      <th>SAE</th>\n      <th>RAE</th>\n      <th>companyType</th>\n    </tr>\n  </thead>\n  <tbody>\n    <tr>\n      <th>0</th>\n      <td>93000801</td>\n      <td>2021-09-15 16:13:35.147</td>\n      <td>6</td>\n      <td>150.00</td>\n      <td>c7543b6f04850eae288aa52783b33363</td>\n      <td>1</td>\n      <td>4</td>\n      <td>5</td>\n      <td>17</td>\n      <td>699</td>\n      <td>2013</td>\n      <td>144</td>\n      <td>19</td>\n      <td>113</td>\n      <td>5</td>\n    </tr>\n    <tr>\n      <th>1</th>\n      <td>93000801</td>\n      <td>2021-08-24 10:34:24.487</td>\n      <td>5</td>\n      <td>3200.00</td>\n      <td>c7543b6f04850eae288aa52783b33363</td>\n      <td>1</td>\n      <td>4</td>\n      <td>5</td>\n      <td>17</td>\n      <td>699</td>\n      <td>2013</td>\n      <td>144</td>\n      <td>19</td>\n      <td>113</td>\n      <td>5</td>\n    </tr>\n    <tr>\n      <th>2</th>\n      <td>93000801</td>\n      <td>2021-09-14 16:21:43.33</td>\n      <td>6</td>\n      <td>8350.00</td>\n      <td>c7543b6f04850eae288aa52783b33363</td>\n      <td>1</td>\n      <td>4</td>\n      <td>5</td>\n      <td>17</td>\n      <td>699</td>\n      <td>2013</td>\n      <td>144</td>\n      <td>19</td>\n      <td>113</td>\n      <td>5</td>\n    </tr>\n    <tr>\n      <th>3</th>\n      <td>93001001</td>\n      <td>2021-06-30 09:07:16.733</td>\n      <td>6</td>\n      <td>500.00</td>\n      <td>3f241dfcc38064261fec0f303c2784e5</td>\n      <td>1</td>\n      <td>0</td>\n      <td>5</td>\n      <td>17</td>\n      <td>123</td>\n      <td>1781</td>\n      <td>90</td>\n      <td>8</td>\n      <td>99</td>\n      <td>10</td>\n    </tr>\n    <tr>\n      <th>4</th>\n      <td>93001001</td>\n      <td>2021-07-12 16:36:02.857</td>\n      <td>6</td>\n      <td>1895.68</td>\n      <td>a5d1eaffa8e325d370665f43624339a1</td>\n      <td>1</td>\n      <td>0</td>\n      <td>5</td>\n      <td>17</td>\n      <td>285</td>\n      <td>1781</td>\n      <td>90</td>\n      <td>8</td>\n      <td>99</td>\n      <td>10</td>\n    </tr>\n  </tbody>\n</table>\n</div>"
     },
     "execution_count": 4,
     "metadata": {},
     "output_type": "execute_result"
    }
   ],
   "source": [
    "labeled_df = labeled_df.drop(columns='Unnamed: 0')\n",
    "labeled_df.head()"
   ],
   "metadata": {
    "collapsed": false,
    "pycharm": {
     "name": "#%%\n"
    }
   }
  },
  {
   "cell_type": "code",
   "execution_count": 5,
   "outputs": [
    {
     "data": {
      "text/plain": "{'contamination': 0.001, 'n_jobs': 1}"
     },
     "execution_count": 5,
     "metadata": {},
     "output_type": "execute_result"
    }
   ],
   "source": [
    "from pyod.models.ecod import ECOD\n",
    "X=labeled_df.copy()\n",
    "X=X.drop(columns=['businessName','customerId','timestamp'])\n",
    "clf = ECOD(contamination=0.001)\n",
    "clf.fit(X)\n",
    "clf.get_params()"
   ],
   "metadata": {
    "collapsed": false,
    "pycharm": {
     "name": "#%%\n"
    }
   }
  },
  {
   "cell_type": "code",
   "execution_count": 6,
   "outputs": [],
   "source": [
    "import pickle\n",
    "encoder_dict=pickle.load(open('enc_dict.pkl','rb'))\n",
    "columns_to_label = ['country', 'userAgent_browserFamily', 'userAgent_osFamily', 'IBAN_countryCode', 'IBAN_bankCode','CAP', 'SIA', 'SAE', 'RAE','companyType']"
   ],
   "metadata": {
    "collapsed": false,
    "pycharm": {
     "name": "#%%\n"
    }
   }
  },
  {
   "cell_type": "code",
   "execution_count": 7,
   "outputs": [
    {
     "data": {
      "text/plain": "   customerId                timestamp country   amount  \\\n0    93000801  2021-09-15 16:13:35.147   Italy   150.00   \n1    93000801  2021-08-24 10:34:24.487  Greece  3200.00   \n2    93000801   2021-09-14 16:21:43.33   Italy  8350.00   \n3    93001001  2021-06-30 09:07:16.733   Italy   500.00   \n4    93001001  2021-07-12 16:36:02.857   Italy  1895.68   \n\n                       businessName  userAgent_isPc userAgent_browserFamily  \\\n0  c7543b6f04850eae288aa52783b33363               1                 Firefox   \n1  c7543b6f04850eae288aa52783b33363               1                 Firefox   \n2  c7543b6f04850eae288aa52783b33363               1                 Firefox   \n3  3f241dfcc38064261fec0f303c2784e5               1                  Chrome   \n4  a5d1eaffa8e325d370665f43624339a1               1                  Chrome   \n\n  userAgent_osFamily IBAN_countryCode IBAN_bankCode    SIA    CAP  SAE  RAE  \\\n0            Windows               IT          5856  CLFUY  33077  492  630   \n1            Windows               IT          5856  CLFUY  33077  492  630   \n2            Windows               IT          5856  CLFUY  33077  492  630   \n3            Windows               IT          2008  CEFGV  31039  430  505   \n4            Windows               IT          3069  CEFGV  31039  430  505   \n\n  companyType     scores  is_anomaly  \n0         SAS  13.619869           0  \n1         SAS  17.579564           0  \n2         SAS  14.067937           0  \n3         SRL   8.099064           0  \n4         SRL   7.269080           0  ",
      "text/html": "<div>\n<style scoped>\n    .dataframe tbody tr th:only-of-type {\n        vertical-align: middle;\n    }\n\n    .dataframe tbody tr th {\n        vertical-align: top;\n    }\n\n    .dataframe thead th {\n        text-align: right;\n    }\n</style>\n<table border=\"1\" class=\"dataframe\">\n  <thead>\n    <tr style=\"text-align: right;\">\n      <th></th>\n      <th>customerId</th>\n      <th>timestamp</th>\n      <th>country</th>\n      <th>amount</th>\n      <th>businessName</th>\n      <th>userAgent_isPc</th>\n      <th>userAgent_browserFamily</th>\n      <th>userAgent_osFamily</th>\n      <th>IBAN_countryCode</th>\n      <th>IBAN_bankCode</th>\n      <th>SIA</th>\n      <th>CAP</th>\n      <th>SAE</th>\n      <th>RAE</th>\n      <th>companyType</th>\n      <th>scores</th>\n      <th>is_anomaly</th>\n    </tr>\n  </thead>\n  <tbody>\n    <tr>\n      <th>0</th>\n      <td>93000801</td>\n      <td>2021-09-15 16:13:35.147</td>\n      <td>Italy</td>\n      <td>150.00</td>\n      <td>c7543b6f04850eae288aa52783b33363</td>\n      <td>1</td>\n      <td>Firefox</td>\n      <td>Windows</td>\n      <td>IT</td>\n      <td>5856</td>\n      <td>CLFUY</td>\n      <td>33077</td>\n      <td>492</td>\n      <td>630</td>\n      <td>SAS</td>\n      <td>13.619869</td>\n      <td>0</td>\n    </tr>\n    <tr>\n      <th>1</th>\n      <td>93000801</td>\n      <td>2021-08-24 10:34:24.487</td>\n      <td>Greece</td>\n      <td>3200.00</td>\n      <td>c7543b6f04850eae288aa52783b33363</td>\n      <td>1</td>\n      <td>Firefox</td>\n      <td>Windows</td>\n      <td>IT</td>\n      <td>5856</td>\n      <td>CLFUY</td>\n      <td>33077</td>\n      <td>492</td>\n      <td>630</td>\n      <td>SAS</td>\n      <td>17.579564</td>\n      <td>0</td>\n    </tr>\n    <tr>\n      <th>2</th>\n      <td>93000801</td>\n      <td>2021-09-14 16:21:43.33</td>\n      <td>Italy</td>\n      <td>8350.00</td>\n      <td>c7543b6f04850eae288aa52783b33363</td>\n      <td>1</td>\n      <td>Firefox</td>\n      <td>Windows</td>\n      <td>IT</td>\n      <td>5856</td>\n      <td>CLFUY</td>\n      <td>33077</td>\n      <td>492</td>\n      <td>630</td>\n      <td>SAS</td>\n      <td>14.067937</td>\n      <td>0</td>\n    </tr>\n    <tr>\n      <th>3</th>\n      <td>93001001</td>\n      <td>2021-06-30 09:07:16.733</td>\n      <td>Italy</td>\n      <td>500.00</td>\n      <td>3f241dfcc38064261fec0f303c2784e5</td>\n      <td>1</td>\n      <td>Chrome</td>\n      <td>Windows</td>\n      <td>IT</td>\n      <td>2008</td>\n      <td>CEFGV</td>\n      <td>31039</td>\n      <td>430</td>\n      <td>505</td>\n      <td>SRL</td>\n      <td>8.099064</td>\n      <td>0</td>\n    </tr>\n    <tr>\n      <th>4</th>\n      <td>93001001</td>\n      <td>2021-07-12 16:36:02.857</td>\n      <td>Italy</td>\n      <td>1895.68</td>\n      <td>a5d1eaffa8e325d370665f43624339a1</td>\n      <td>1</td>\n      <td>Chrome</td>\n      <td>Windows</td>\n      <td>IT</td>\n      <td>3069</td>\n      <td>CEFGV</td>\n      <td>31039</td>\n      <td>430</td>\n      <td>505</td>\n      <td>SRL</td>\n      <td>7.269080</td>\n      <td>0</td>\n    </tr>\n  </tbody>\n</table>\n</div>"
     },
     "execution_count": 7,
     "metadata": {},
     "output_type": "execute_result"
    }
   ],
   "source": [
    "def inverse_and_scores(labeled_df,enc_dict,columns,model):\n",
    "    df_copy=labeled_df.copy()\n",
    "    labels=model.labels_\n",
    "    scores = model.decision_scores_\n",
    "\n",
    "    for clmn in columns:\n",
    "        df_copy[clmn]=enc_dict[clmn].inverse_transform(df_copy[clmn])\n",
    "\n",
    "    df_copy['scores'] = scores\n",
    "    df_copy['is_anomaly'] = labels\n",
    "\n",
    "    return df_copy\n",
    "\n",
    "df_scores=inverse_and_scores(labeled_df,encoder_dict,columns_to_label,clf)\n",
    "\n",
    "df_scores.head()"
   ],
   "metadata": {
    "collapsed": false,
    "pycharm": {
     "name": "#%%\n"
    }
   }
  },
  {
   "cell_type": "code",
   "execution_count": 8,
   "outputs": [
    {
     "data": {
      "text/plain": "       customerId                timestamp country   amount  \\\n42632    45915153  2021-08-24 11:47:38.077   Italy   299.00   \n42622    45915153  2021-09-02 15:44:16.347   Italy   687.00   \n42619    45915153  2021-07-30 15:25:38.557   Italy  1000.00   \n42623    45915153   2021-04-29 14:17:14.26   Italy  1000.00   \n62085    68863923   2021-08-03 14:03:09.58   Italy     8.20   \n...           ...                      ...     ...      ...   \n18803  1886395602   2021-07-27 11:15:56.77   Italy  1200.00   \n51569    49901793  2021-09-14 09:28:50.683   Italy    17.66   \n75345    85917346  2021-08-23 13:13:28.537   Italy   130.00   \n55421    62276698  2021-05-18 19:27:34.503   Italy   833.84   \n75346    85917346  2021-08-28 14:42:30.157   Italy   279.92   \n\n                           businessName  userAgent_isPc  \\\n42632  73322bb678a4c1b6a94fe29411a5fafe               0   \n42622  73322bb678a4c1b6a94fe29411a5fafe               0   \n42619  f2a85ebb8645443730a3fba554a69914               0   \n42623  f2a85ebb8645443730a3fba554a69914               0   \n62085  6c851139ea78e812d0d4cb33b9603687               1   \n...                                 ...             ...   \n18803  c1acc152c10a3e7c3297d0bdfa246acd               1   \n51569  2a3bfe83f75de70adb71d35281bf6987               0   \n75345  1033adca2d07691863d4e65a1c2f68a0               0   \n55421  e0af727f9ff610a040d4745e8005a458               0   \n75346  874d219be0b4f453619262a263165fd4               0   \n\n          userAgent_browserFamily userAgent_osFamily IBAN_countryCode  \\\n42632                       Other              Linux               IT   \n42622                       Other              Linux               IT   \n42619                       Other              Linux               IT   \n42623                       Other              Linux               IT   \n62085                      Chrome           Mac OS X               BE   \n...                           ...                ...              ...   \n18803                      Chrome           Mac OS X               NL   \n51569  Mobile Safari UI/WKWebView                iOS               IT   \n75345           Chrome Mobile iOS                iOS               IT   \n55421                       Other              Linux               DE   \n75346           Chrome Mobile iOS                iOS               IT   \n\n      IBAN_bankCode    SIA    CAP  SAE  RAE companyType     scores  is_anomaly  \n42632          8904  082X3  30024  614  342          DI  38.141232           1  \n42622          8904  082X3  30024  614  342          DI  37.608201           1  \n42619          8904  082X3  30024  614  342          DI  37.388342           1  \n42623          8904  082X3  30024  614  342          DI  37.388342           1  \n62085             0  B6R6Z  39053  288    0         SRL  36.408063           1  \n...             ...    ...    ...  ...  ...         ...        ...         ...  \n18803          INGB  AMU3P  39100  615   11          SS  28.589932           1  \n51569          3069  BH4SA  36061  480   11         SAS  28.582268           1  \n75345          5856  BZGLV  39100  501    0         SDF  28.578828           1  \n55421      46660022  BZY2P  39010  615  630         SDF  28.571853           1  \n75346          7601  BZGLV  39100  501    0         SDF  28.563857           1  \n\n[91 rows x 17 columns]",
      "text/html": "<div>\n<style scoped>\n    .dataframe tbody tr th:only-of-type {\n        vertical-align: middle;\n    }\n\n    .dataframe tbody tr th {\n        vertical-align: top;\n    }\n\n    .dataframe thead th {\n        text-align: right;\n    }\n</style>\n<table border=\"1\" class=\"dataframe\">\n  <thead>\n    <tr style=\"text-align: right;\">\n      <th></th>\n      <th>customerId</th>\n      <th>timestamp</th>\n      <th>country</th>\n      <th>amount</th>\n      <th>businessName</th>\n      <th>userAgent_isPc</th>\n      <th>userAgent_browserFamily</th>\n      <th>userAgent_osFamily</th>\n      <th>IBAN_countryCode</th>\n      <th>IBAN_bankCode</th>\n      <th>SIA</th>\n      <th>CAP</th>\n      <th>SAE</th>\n      <th>RAE</th>\n      <th>companyType</th>\n      <th>scores</th>\n      <th>is_anomaly</th>\n    </tr>\n  </thead>\n  <tbody>\n    <tr>\n      <th>42632</th>\n      <td>45915153</td>\n      <td>2021-08-24 11:47:38.077</td>\n      <td>Italy</td>\n      <td>299.00</td>\n      <td>73322bb678a4c1b6a94fe29411a5fafe</td>\n      <td>0</td>\n      <td>Other</td>\n      <td>Linux</td>\n      <td>IT</td>\n      <td>8904</td>\n      <td>082X3</td>\n      <td>30024</td>\n      <td>614</td>\n      <td>342</td>\n      <td>DI</td>\n      <td>38.141232</td>\n      <td>1</td>\n    </tr>\n    <tr>\n      <th>42622</th>\n      <td>45915153</td>\n      <td>2021-09-02 15:44:16.347</td>\n      <td>Italy</td>\n      <td>687.00</td>\n      <td>73322bb678a4c1b6a94fe29411a5fafe</td>\n      <td>0</td>\n      <td>Other</td>\n      <td>Linux</td>\n      <td>IT</td>\n      <td>8904</td>\n      <td>082X3</td>\n      <td>30024</td>\n      <td>614</td>\n      <td>342</td>\n      <td>DI</td>\n      <td>37.608201</td>\n      <td>1</td>\n    </tr>\n    <tr>\n      <th>42619</th>\n      <td>45915153</td>\n      <td>2021-07-30 15:25:38.557</td>\n      <td>Italy</td>\n      <td>1000.00</td>\n      <td>f2a85ebb8645443730a3fba554a69914</td>\n      <td>0</td>\n      <td>Other</td>\n      <td>Linux</td>\n      <td>IT</td>\n      <td>8904</td>\n      <td>082X3</td>\n      <td>30024</td>\n      <td>614</td>\n      <td>342</td>\n      <td>DI</td>\n      <td>37.388342</td>\n      <td>1</td>\n    </tr>\n    <tr>\n      <th>42623</th>\n      <td>45915153</td>\n      <td>2021-04-29 14:17:14.26</td>\n      <td>Italy</td>\n      <td>1000.00</td>\n      <td>f2a85ebb8645443730a3fba554a69914</td>\n      <td>0</td>\n      <td>Other</td>\n      <td>Linux</td>\n      <td>IT</td>\n      <td>8904</td>\n      <td>082X3</td>\n      <td>30024</td>\n      <td>614</td>\n      <td>342</td>\n      <td>DI</td>\n      <td>37.388342</td>\n      <td>1</td>\n    </tr>\n    <tr>\n      <th>62085</th>\n      <td>68863923</td>\n      <td>2021-08-03 14:03:09.58</td>\n      <td>Italy</td>\n      <td>8.20</td>\n      <td>6c851139ea78e812d0d4cb33b9603687</td>\n      <td>1</td>\n      <td>Chrome</td>\n      <td>Mac OS X</td>\n      <td>BE</td>\n      <td>0</td>\n      <td>B6R6Z</td>\n      <td>39053</td>\n      <td>288</td>\n      <td>0</td>\n      <td>SRL</td>\n      <td>36.408063</td>\n      <td>1</td>\n    </tr>\n    <tr>\n      <th>...</th>\n      <td>...</td>\n      <td>...</td>\n      <td>...</td>\n      <td>...</td>\n      <td>...</td>\n      <td>...</td>\n      <td>...</td>\n      <td>...</td>\n      <td>...</td>\n      <td>...</td>\n      <td>...</td>\n      <td>...</td>\n      <td>...</td>\n      <td>...</td>\n      <td>...</td>\n      <td>...</td>\n      <td>...</td>\n    </tr>\n    <tr>\n      <th>18803</th>\n      <td>1886395602</td>\n      <td>2021-07-27 11:15:56.77</td>\n      <td>Italy</td>\n      <td>1200.00</td>\n      <td>c1acc152c10a3e7c3297d0bdfa246acd</td>\n      <td>1</td>\n      <td>Chrome</td>\n      <td>Mac OS X</td>\n      <td>NL</td>\n      <td>INGB</td>\n      <td>AMU3P</td>\n      <td>39100</td>\n      <td>615</td>\n      <td>11</td>\n      <td>SS</td>\n      <td>28.589932</td>\n      <td>1</td>\n    </tr>\n    <tr>\n      <th>51569</th>\n      <td>49901793</td>\n      <td>2021-09-14 09:28:50.683</td>\n      <td>Italy</td>\n      <td>17.66</td>\n      <td>2a3bfe83f75de70adb71d35281bf6987</td>\n      <td>0</td>\n      <td>Mobile Safari UI/WKWebView</td>\n      <td>iOS</td>\n      <td>IT</td>\n      <td>3069</td>\n      <td>BH4SA</td>\n      <td>36061</td>\n      <td>480</td>\n      <td>11</td>\n      <td>SAS</td>\n      <td>28.582268</td>\n      <td>1</td>\n    </tr>\n    <tr>\n      <th>75345</th>\n      <td>85917346</td>\n      <td>2021-08-23 13:13:28.537</td>\n      <td>Italy</td>\n      <td>130.00</td>\n      <td>1033adca2d07691863d4e65a1c2f68a0</td>\n      <td>0</td>\n      <td>Chrome Mobile iOS</td>\n      <td>iOS</td>\n      <td>IT</td>\n      <td>5856</td>\n      <td>BZGLV</td>\n      <td>39100</td>\n      <td>501</td>\n      <td>0</td>\n      <td>SDF</td>\n      <td>28.578828</td>\n      <td>1</td>\n    </tr>\n    <tr>\n      <th>55421</th>\n      <td>62276698</td>\n      <td>2021-05-18 19:27:34.503</td>\n      <td>Italy</td>\n      <td>833.84</td>\n      <td>e0af727f9ff610a040d4745e8005a458</td>\n      <td>0</td>\n      <td>Other</td>\n      <td>Linux</td>\n      <td>DE</td>\n      <td>46660022</td>\n      <td>BZY2P</td>\n      <td>39010</td>\n      <td>615</td>\n      <td>630</td>\n      <td>SDF</td>\n      <td>28.571853</td>\n      <td>1</td>\n    </tr>\n    <tr>\n      <th>75346</th>\n      <td>85917346</td>\n      <td>2021-08-28 14:42:30.157</td>\n      <td>Italy</td>\n      <td>279.92</td>\n      <td>874d219be0b4f453619262a263165fd4</td>\n      <td>0</td>\n      <td>Chrome Mobile iOS</td>\n      <td>iOS</td>\n      <td>IT</td>\n      <td>7601</td>\n      <td>BZGLV</td>\n      <td>39100</td>\n      <td>501</td>\n      <td>0</td>\n      <td>SDF</td>\n      <td>28.563857</td>\n      <td>1</td>\n    </tr>\n  </tbody>\n</table>\n<p>91 rows × 17 columns</p>\n</div>"
     },
     "execution_count": 8,
     "metadata": {},
     "output_type": "execute_result"
    }
   ],
   "source": [
    "df_scores[df_scores['is_anomaly']==1].sort_values('scores',ascending=False)"
   ],
   "metadata": {
    "collapsed": false,
    "pycharm": {
     "name": "#%%\n"
    }
   }
  },
  {
   "cell_type": "code",
   "execution_count": 9,
   "outputs": [],
   "source": [
    "df_scores.to_csv('ECOD_scores.csv')"
   ],
   "metadata": {
    "collapsed": false,
    "pycharm": {
     "name": "#%%\n"
    }
   }
  },
  {
   "cell_type": "code",
   "execution_count": 9,
   "outputs": [
    {
     "data": {
      "text/plain": "   country   amount  userAgent_isPc  userAgent_browserFamily  \\\n0        6   150.00               1                        4   \n1        5  3200.00               1                        4   \n2        6  8350.00               1                        4   \n3        6   500.00               1                        0   \n4        6  1895.68               1                        0   \n\n   userAgent_osFamily  IBAN_countryCode  IBAN_bankCode   SIA  CAP  SAE  RAE  \\\n0                   5                17            699  2013  144   19  113   \n1                   5                17            699  2013  144   19  113   \n2                   5                17            699  2013  144   19  113   \n3                   5                17            123  1781   90    8   99   \n4                   5                17            285  1781   90    8   99   \n\n   companyType  label  \n0            5      0  \n1            5      0  \n2            5      0  \n3           10      0  \n4           10      0  ",
      "text/html": "<div>\n<style scoped>\n    .dataframe tbody tr th:only-of-type {\n        vertical-align: middle;\n    }\n\n    .dataframe tbody tr th {\n        vertical-align: top;\n    }\n\n    .dataframe thead th {\n        text-align: right;\n    }\n</style>\n<table border=\"1\" class=\"dataframe\">\n  <thead>\n    <tr style=\"text-align: right;\">\n      <th></th>\n      <th>country</th>\n      <th>amount</th>\n      <th>userAgent_isPc</th>\n      <th>userAgent_browserFamily</th>\n      <th>userAgent_osFamily</th>\n      <th>IBAN_countryCode</th>\n      <th>IBAN_bankCode</th>\n      <th>SIA</th>\n      <th>CAP</th>\n      <th>SAE</th>\n      <th>RAE</th>\n      <th>companyType</th>\n      <th>label</th>\n    </tr>\n  </thead>\n  <tbody>\n    <tr>\n      <th>0</th>\n      <td>6</td>\n      <td>150.00</td>\n      <td>1</td>\n      <td>4</td>\n      <td>5</td>\n      <td>17</td>\n      <td>699</td>\n      <td>2013</td>\n      <td>144</td>\n      <td>19</td>\n      <td>113</td>\n      <td>5</td>\n      <td>0</td>\n    </tr>\n    <tr>\n      <th>1</th>\n      <td>5</td>\n      <td>3200.00</td>\n      <td>1</td>\n      <td>4</td>\n      <td>5</td>\n      <td>17</td>\n      <td>699</td>\n      <td>2013</td>\n      <td>144</td>\n      <td>19</td>\n      <td>113</td>\n      <td>5</td>\n      <td>0</td>\n    </tr>\n    <tr>\n      <th>2</th>\n      <td>6</td>\n      <td>8350.00</td>\n      <td>1</td>\n      <td>4</td>\n      <td>5</td>\n      <td>17</td>\n      <td>699</td>\n      <td>2013</td>\n      <td>144</td>\n      <td>19</td>\n      <td>113</td>\n      <td>5</td>\n      <td>0</td>\n    </tr>\n    <tr>\n      <th>3</th>\n      <td>6</td>\n      <td>500.00</td>\n      <td>1</td>\n      <td>0</td>\n      <td>5</td>\n      <td>17</td>\n      <td>123</td>\n      <td>1781</td>\n      <td>90</td>\n      <td>8</td>\n      <td>99</td>\n      <td>10</td>\n      <td>0</td>\n    </tr>\n    <tr>\n      <th>4</th>\n      <td>6</td>\n      <td>1895.68</td>\n      <td>1</td>\n      <td>0</td>\n      <td>5</td>\n      <td>17</td>\n      <td>285</td>\n      <td>1781</td>\n      <td>90</td>\n      <td>8</td>\n      <td>99</td>\n      <td>10</td>\n      <td>0</td>\n    </tr>\n  </tbody>\n</table>\n</div>"
     },
     "execution_count": 9,
     "metadata": {},
     "output_type": "execute_result"
    }
   ],
   "source": [
    "ECOD_labeled_df = X.copy()\n",
    "ECOD_labeled_df['label']=clf.labels_\n",
    "ECOD_labeled_df.head()"
   ],
   "metadata": {
    "collapsed": false,
    "pycharm": {
     "name": "#%%\n"
    }
   }
  },
  {
   "cell_type": "code",
   "execution_count": 10,
   "outputs": [],
   "source": [
    "ECOD_labeled_df.to_csv('ECOD_labeled_df.csv')"
   ],
   "metadata": {
    "collapsed": false,
    "pycharm": {
     "name": "#%%\n"
    }
   }
  },
  {
   "cell_type": "code",
   "execution_count": null,
   "outputs": [],
   "source": [],
   "metadata": {
    "collapsed": false,
    "pycharm": {
     "name": "#%%\n"
    }
   }
  }
 ],
 "metadata": {
  "kernelspec": {
   "display_name": "Python 3",
   "language": "python",
   "name": "python3"
  },
  "language_info": {
   "codemirror_mode": {
    "name": "ipython",
    "version": 2
   },
   "file_extension": ".py",
   "mimetype": "text/x-python",
   "name": "python",
   "nbconvert_exporter": "python",
   "pygments_lexer": "ipython2",
   "version": "2.7.6"
  }
 },
 "nbformat": 4,
 "nbformat_minor": 0
}