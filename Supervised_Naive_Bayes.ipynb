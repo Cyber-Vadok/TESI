{
 "cells": [
  {
   "cell_type": "code",
   "execution_count": 31,
   "metadata": {
    "collapsed": true,
    "pycharm": {
     "name": "#%%\n"
    }
   },
   "outputs": [],
   "source": [
    "#IMPORTO LIBRERIE\n",
    "import pandas as pd\n",
    "from sklearn.naive_bayes import CategoricalNB\n",
    "from sklearn.naive_bayes import BernoulliNB"
   ]
  },
  {
   "cell_type": "code",
   "execution_count": 21,
   "outputs": [
    {
     "data": {
      "text/plain": "   customerId                timestamp country   amount  \\\n0    93000801  2021-09-15 16:13:35.147   Italy   150.00   \n1    93000801  2021-08-24 10:34:24.487  Greece  3200.00   \n2    93000801   2021-09-14 16:21:43.33   Italy  8350.00   \n3    93001001  2021-06-30 09:07:16.733   Italy   500.00   \n4    93001001  2021-07-12 16:36:02.857   Italy  1895.68   \n\n                       businessName  userAgent_isPc userAgent_browserFamily  \\\n0  c7543b6f04850eae288aa52783b33363               1                 Firefox   \n1  c7543b6f04850eae288aa52783b33363               1                 Firefox   \n2  c7543b6f04850eae288aa52783b33363               1                 Firefox   \n3  3f241dfcc38064261fec0f303c2784e5               1                  Chrome   \n4  a5d1eaffa8e325d370665f43624339a1               1                  Chrome   \n\n  userAgent_osFamily IBAN_countryCode IBAN_bankCode    SIA    CAP  SAE  RAE  \\\n0            Windows               IT          5856  CLFUY  33077  492  630   \n1            Windows               IT          5856  CLFUY  33077  492  630   \n2            Windows               IT          5856  CLFUY  33077  492  630   \n3            Windows               IT          2008  CEFGV  31039  430  505   \n4            Windows               IT          3069  CEFGV  31039  430  505   \n\n  companyType  is_anomaly  \n0         SAS           0  \n1         SAS           0  \n2         SAS           0  \n3         SRL           0  \n4         SRL           0  ",
      "text/html": "<div>\n<style scoped>\n    .dataframe tbody tr th:only-of-type {\n        vertical-align: middle;\n    }\n\n    .dataframe tbody tr th {\n        vertical-align: top;\n    }\n\n    .dataframe thead th {\n        text-align: right;\n    }\n</style>\n<table border=\"1\" class=\"dataframe\">\n  <thead>\n    <tr style=\"text-align: right;\">\n      <th></th>\n      <th>customerId</th>\n      <th>timestamp</th>\n      <th>country</th>\n      <th>amount</th>\n      <th>businessName</th>\n      <th>userAgent_isPc</th>\n      <th>userAgent_browserFamily</th>\n      <th>userAgent_osFamily</th>\n      <th>IBAN_countryCode</th>\n      <th>IBAN_bankCode</th>\n      <th>SIA</th>\n      <th>CAP</th>\n      <th>SAE</th>\n      <th>RAE</th>\n      <th>companyType</th>\n      <th>is_anomaly</th>\n    </tr>\n  </thead>\n  <tbody>\n    <tr>\n      <th>0</th>\n      <td>93000801</td>\n      <td>2021-09-15 16:13:35.147</td>\n      <td>Italy</td>\n      <td>150.00</td>\n      <td>c7543b6f04850eae288aa52783b33363</td>\n      <td>1</td>\n      <td>Firefox</td>\n      <td>Windows</td>\n      <td>IT</td>\n      <td>5856</td>\n      <td>CLFUY</td>\n      <td>33077</td>\n      <td>492</td>\n      <td>630</td>\n      <td>SAS</td>\n      <td>0</td>\n    </tr>\n    <tr>\n      <th>1</th>\n      <td>93000801</td>\n      <td>2021-08-24 10:34:24.487</td>\n      <td>Greece</td>\n      <td>3200.00</td>\n      <td>c7543b6f04850eae288aa52783b33363</td>\n      <td>1</td>\n      <td>Firefox</td>\n      <td>Windows</td>\n      <td>IT</td>\n      <td>5856</td>\n      <td>CLFUY</td>\n      <td>33077</td>\n      <td>492</td>\n      <td>630</td>\n      <td>SAS</td>\n      <td>0</td>\n    </tr>\n    <tr>\n      <th>2</th>\n      <td>93000801</td>\n      <td>2021-09-14 16:21:43.33</td>\n      <td>Italy</td>\n      <td>8350.00</td>\n      <td>c7543b6f04850eae288aa52783b33363</td>\n      <td>1</td>\n      <td>Firefox</td>\n      <td>Windows</td>\n      <td>IT</td>\n      <td>5856</td>\n      <td>CLFUY</td>\n      <td>33077</td>\n      <td>492</td>\n      <td>630</td>\n      <td>SAS</td>\n      <td>0</td>\n    </tr>\n    <tr>\n      <th>3</th>\n      <td>93001001</td>\n      <td>2021-06-30 09:07:16.733</td>\n      <td>Italy</td>\n      <td>500.00</td>\n      <td>3f241dfcc38064261fec0f303c2784e5</td>\n      <td>1</td>\n      <td>Chrome</td>\n      <td>Windows</td>\n      <td>IT</td>\n      <td>2008</td>\n      <td>CEFGV</td>\n      <td>31039</td>\n      <td>430</td>\n      <td>505</td>\n      <td>SRL</td>\n      <td>0</td>\n    </tr>\n    <tr>\n      <th>4</th>\n      <td>93001001</td>\n      <td>2021-07-12 16:36:02.857</td>\n      <td>Italy</td>\n      <td>1895.68</td>\n      <td>a5d1eaffa8e325d370665f43624339a1</td>\n      <td>1</td>\n      <td>Chrome</td>\n      <td>Windows</td>\n      <td>IT</td>\n      <td>3069</td>\n      <td>CEFGV</td>\n      <td>31039</td>\n      <td>430</td>\n      <td>505</td>\n      <td>SRL</td>\n      <td>0</td>\n    </tr>\n  </tbody>\n</table>\n</div>"
     },
     "execution_count": 21,
     "metadata": {},
     "output_type": "execute_result"
    }
   ],
   "source": [
    "df = pd.read_csv('misc_anomalies.csv',decimal=',')\n",
    "df.head()"
   ],
   "metadata": {
    "collapsed": false,
    "pycharm": {
     "name": "#%%\n"
    }
   }
  },
  {
   "cell_type": "code",
   "execution_count": 22,
   "outputs": [],
   "source": [
    "import pickle\n",
    "encoder_dict=pickle.load(open('enc_dict.pkl','rb'))\n",
    "columns_to_label = ['country', 'userAgent_browserFamily', 'userAgent_osFamily', 'IBAN_countryCode', 'IBAN_bankCode','CAP', 'SIA', 'SAE', 'RAE','companyType']"
   ],
   "metadata": {
    "collapsed": false,
    "pycharm": {
     "name": "#%%\n"
    }
   }
  },
  {
   "cell_type": "code",
   "execution_count": 23,
   "outputs": [],
   "source": [
    "columns_to_label = ['country', 'userAgent_browserFamily', 'userAgent_osFamily', 'IBAN_countryCode', 'IBAN_bankCode','CAP', 'SIA', 'SAE', 'RAE','companyType']\n",
    "\n",
    "for clmn in columns_to_label:\n",
    "    df[clmn]=df[clmn].apply(str)\n",
    "    df[clmn] = encoder_dict[clmn].transform(df[clmn])"
   ],
   "metadata": {
    "collapsed": false,
    "pycharm": {
     "name": "#%%\n"
    }
   }
  },
  {
   "cell_type": "code",
   "execution_count": 24,
   "outputs": [
    {
     "data": {
      "text/plain": "   customerId                timestamp  country   amount  \\\n0    93000801  2021-09-15 16:13:35.147        6   150.00   \n1    93000801  2021-08-24 10:34:24.487        5  3200.00   \n2    93000801   2021-09-14 16:21:43.33        6  8350.00   \n3    93001001  2021-06-30 09:07:16.733        6   500.00   \n4    93001001  2021-07-12 16:36:02.857        6  1895.68   \n\n                       businessName  userAgent_isPc  userAgent_browserFamily  \\\n0  c7543b6f04850eae288aa52783b33363               1                        4   \n1  c7543b6f04850eae288aa52783b33363               1                        4   \n2  c7543b6f04850eae288aa52783b33363               1                        4   \n3  3f241dfcc38064261fec0f303c2784e5               1                        0   \n4  a5d1eaffa8e325d370665f43624339a1               1                        0   \n\n   userAgent_osFamily  IBAN_countryCode  IBAN_bankCode   SIA  CAP  SAE  RAE  \\\n0                   5                17            699  2013  141   19  113   \n1                   5                17            699  2013  141   19  113   \n2                   5                17            699  2013  141   19  113   \n3                   5                17            123  1781   87    8   99   \n4                   5                17            285  1781   87    8   99   \n\n   companyType  is_anomaly  \n0            5           0  \n1            5           0  \n2            5           0  \n3           10           0  \n4           10           0  ",
      "text/html": "<div>\n<style scoped>\n    .dataframe tbody tr th:only-of-type {\n        vertical-align: middle;\n    }\n\n    .dataframe tbody tr th {\n        vertical-align: top;\n    }\n\n    .dataframe thead th {\n        text-align: right;\n    }\n</style>\n<table border=\"1\" class=\"dataframe\">\n  <thead>\n    <tr style=\"text-align: right;\">\n      <th></th>\n      <th>customerId</th>\n      <th>timestamp</th>\n      <th>country</th>\n      <th>amount</th>\n      <th>businessName</th>\n      <th>userAgent_isPc</th>\n      <th>userAgent_browserFamily</th>\n      <th>userAgent_osFamily</th>\n      <th>IBAN_countryCode</th>\n      <th>IBAN_bankCode</th>\n      <th>SIA</th>\n      <th>CAP</th>\n      <th>SAE</th>\n      <th>RAE</th>\n      <th>companyType</th>\n      <th>is_anomaly</th>\n    </tr>\n  </thead>\n  <tbody>\n    <tr>\n      <th>0</th>\n      <td>93000801</td>\n      <td>2021-09-15 16:13:35.147</td>\n      <td>6</td>\n      <td>150.00</td>\n      <td>c7543b6f04850eae288aa52783b33363</td>\n      <td>1</td>\n      <td>4</td>\n      <td>5</td>\n      <td>17</td>\n      <td>699</td>\n      <td>2013</td>\n      <td>141</td>\n      <td>19</td>\n      <td>113</td>\n      <td>5</td>\n      <td>0</td>\n    </tr>\n    <tr>\n      <th>1</th>\n      <td>93000801</td>\n      <td>2021-08-24 10:34:24.487</td>\n      <td>5</td>\n      <td>3200.00</td>\n      <td>c7543b6f04850eae288aa52783b33363</td>\n      <td>1</td>\n      <td>4</td>\n      <td>5</td>\n      <td>17</td>\n      <td>699</td>\n      <td>2013</td>\n      <td>141</td>\n      <td>19</td>\n      <td>113</td>\n      <td>5</td>\n      <td>0</td>\n    </tr>\n    <tr>\n      <th>2</th>\n      <td>93000801</td>\n      <td>2021-09-14 16:21:43.33</td>\n      <td>6</td>\n      <td>8350.00</td>\n      <td>c7543b6f04850eae288aa52783b33363</td>\n      <td>1</td>\n      <td>4</td>\n      <td>5</td>\n      <td>17</td>\n      <td>699</td>\n      <td>2013</td>\n      <td>141</td>\n      <td>19</td>\n      <td>113</td>\n      <td>5</td>\n      <td>0</td>\n    </tr>\n    <tr>\n      <th>3</th>\n      <td>93001001</td>\n      <td>2021-06-30 09:07:16.733</td>\n      <td>6</td>\n      <td>500.00</td>\n      <td>3f241dfcc38064261fec0f303c2784e5</td>\n      <td>1</td>\n      <td>0</td>\n      <td>5</td>\n      <td>17</td>\n      <td>123</td>\n      <td>1781</td>\n      <td>87</td>\n      <td>8</td>\n      <td>99</td>\n      <td>10</td>\n      <td>0</td>\n    </tr>\n    <tr>\n      <th>4</th>\n      <td>93001001</td>\n      <td>2021-07-12 16:36:02.857</td>\n      <td>6</td>\n      <td>1895.68</td>\n      <td>a5d1eaffa8e325d370665f43624339a1</td>\n      <td>1</td>\n      <td>0</td>\n      <td>5</td>\n      <td>17</td>\n      <td>285</td>\n      <td>1781</td>\n      <td>87</td>\n      <td>8</td>\n      <td>99</td>\n      <td>10</td>\n      <td>0</td>\n    </tr>\n  </tbody>\n</table>\n</div>"
     },
     "execution_count": 24,
     "metadata": {},
     "output_type": "execute_result"
    }
   ],
   "source": [
    "df.head()"
   ],
   "metadata": {
    "collapsed": false,
    "pycharm": {
     "name": "#%%\n"
    }
   }
  },
  {
   "cell_type": "code",
   "execution_count": 32,
   "outputs": [
    {
     "name": "stdout",
     "output_type": "stream",
     "text": [
      "Bernoulli Naive Bayes model accuracy(in %): 99.97251539138082\n"
     ]
    }
   ],
   "source": [
    "# store the feature matrix (X) and response vector (y)\n",
    "X = df.drop(columns=['is_anomaly','timestamp','businessName','customerId'])\n",
    "y = df['is_anomaly']\n",
    "\n",
    "# splitting X and y into training and testing sets\n",
    "from sklearn.model_selection import train_test_split\n",
    "X_train, X_test, y_train, y_test = train_test_split(X, y, test_size=0.2, random_state=1)\n",
    "\n",
    "# training the model on training set\n",
    "from sklearn.naive_bayes import BernoulliNB\n",
    "#gnb = BernoulliNB()\n",
    "model=CategoricalNB()\n",
    "model.fit(X_train, y_train)\n",
    "\n",
    "# making predictions on the testing set\n",
    "y_pred = model.predict(X_test)\n",
    "\n",
    "# comparing actual response values (y_test) with predicted response values (y_pred)\n",
    "from sklearn import metrics\n",
    "print(\"Bernoulli Naive Bayes model accuracy(in %):\", metrics.accuracy_score(y_test, y_pred)*100)"
   ],
   "metadata": {
    "collapsed": false,
    "pycharm": {
     "name": "#%%\n"
    }
   }
  },
  {
   "cell_type": "code",
   "execution_count": 26,
   "outputs": [
    {
     "data": {
      "text/plain": "   country     amount  userAgent_isPc userAgent_browserFamily  \\\n0  Austria  264986.74               1                  Chrome   \n1    Italy  111345.77               1                  Chrome   \n2    Italy    1659.00               1                 Firefox   \n3    Italy     200.00               1                  Safari   \n4    Italy    1000.00               1                  Chrome   \n5    Italy     120.78               1                  Chrome   \n6    Italy     299.00               0                   Other   \n7    Italy     151.35               0        Samsung Internet   \n8    Italy    1678.00               1                  Chrome   \n\n  userAgent_osFamily IBAN_countryCode  IBAN_bankCode    SIA    CAP  SAE  RAE  \\\n0            Windows               AT          34000  BUV4U  39031  430  161   \n1            Windows               DE       34270024  B5SDZ  39100  615   11   \n2            Windows               IT           3069  BQ6RB  31010  430  649   \n3           Mac OS X               IT           8794  CM5CR  30174  492  614   \n4            Windows               IT           8327  CEFGV  31039  430  505   \n5            Windows               IT           8749  CKZYT  31038  430  314   \n6              Linux               IT           8904  082X3  30024  614  342   \n7            Android               IT           2008  A7TWW  36027  430  316   \n8            Windows               IT           3440  CHRGC  36016  430  830   \n\n  companyType  \n0         SRL  \n1          SS  \n2         SRL  \n3         SAS  \n4         SRL  \n5         SRL  \n6          DI  \n7         SRL  \n8         SRL  ",
      "text/html": "<div>\n<style scoped>\n    .dataframe tbody tr th:only-of-type {\n        vertical-align: middle;\n    }\n\n    .dataframe tbody tr th {\n        vertical-align: top;\n    }\n\n    .dataframe thead th {\n        text-align: right;\n    }\n</style>\n<table border=\"1\" class=\"dataframe\">\n  <thead>\n    <tr style=\"text-align: right;\">\n      <th></th>\n      <th>country</th>\n      <th>amount</th>\n      <th>userAgent_isPc</th>\n      <th>userAgent_browserFamily</th>\n      <th>userAgent_osFamily</th>\n      <th>IBAN_countryCode</th>\n      <th>IBAN_bankCode</th>\n      <th>SIA</th>\n      <th>CAP</th>\n      <th>SAE</th>\n      <th>RAE</th>\n      <th>companyType</th>\n    </tr>\n  </thead>\n  <tbody>\n    <tr>\n      <th>0</th>\n      <td>Austria</td>\n      <td>264986.74</td>\n      <td>1</td>\n      <td>Chrome</td>\n      <td>Windows</td>\n      <td>AT</td>\n      <td>34000</td>\n      <td>BUV4U</td>\n      <td>39031</td>\n      <td>430</td>\n      <td>161</td>\n      <td>SRL</td>\n    </tr>\n    <tr>\n      <th>1</th>\n      <td>Italy</td>\n      <td>111345.77</td>\n      <td>1</td>\n      <td>Chrome</td>\n      <td>Windows</td>\n      <td>DE</td>\n      <td>34270024</td>\n      <td>B5SDZ</td>\n      <td>39100</td>\n      <td>615</td>\n      <td>11</td>\n      <td>SS</td>\n    </tr>\n    <tr>\n      <th>2</th>\n      <td>Italy</td>\n      <td>1659.00</td>\n      <td>1</td>\n      <td>Firefox</td>\n      <td>Windows</td>\n      <td>IT</td>\n      <td>3069</td>\n      <td>BQ6RB</td>\n      <td>31010</td>\n      <td>430</td>\n      <td>649</td>\n      <td>SRL</td>\n    </tr>\n    <tr>\n      <th>3</th>\n      <td>Italy</td>\n      <td>200.00</td>\n      <td>1</td>\n      <td>Safari</td>\n      <td>Mac OS X</td>\n      <td>IT</td>\n      <td>8794</td>\n      <td>CM5CR</td>\n      <td>30174</td>\n      <td>492</td>\n      <td>614</td>\n      <td>SAS</td>\n    </tr>\n    <tr>\n      <th>4</th>\n      <td>Italy</td>\n      <td>1000.00</td>\n      <td>1</td>\n      <td>Chrome</td>\n      <td>Windows</td>\n      <td>IT</td>\n      <td>8327</td>\n      <td>CEFGV</td>\n      <td>31039</td>\n      <td>430</td>\n      <td>505</td>\n      <td>SRL</td>\n    </tr>\n    <tr>\n      <th>5</th>\n      <td>Italy</td>\n      <td>120.78</td>\n      <td>1</td>\n      <td>Chrome</td>\n      <td>Windows</td>\n      <td>IT</td>\n      <td>8749</td>\n      <td>CKZYT</td>\n      <td>31038</td>\n      <td>430</td>\n      <td>314</td>\n      <td>SRL</td>\n    </tr>\n    <tr>\n      <th>6</th>\n      <td>Italy</td>\n      <td>299.00</td>\n      <td>0</td>\n      <td>Other</td>\n      <td>Linux</td>\n      <td>IT</td>\n      <td>8904</td>\n      <td>082X3</td>\n      <td>30024</td>\n      <td>614</td>\n      <td>342</td>\n      <td>DI</td>\n    </tr>\n    <tr>\n      <th>7</th>\n      <td>Italy</td>\n      <td>151.35</td>\n      <td>0</td>\n      <td>Samsung Internet</td>\n      <td>Android</td>\n      <td>IT</td>\n      <td>2008</td>\n      <td>A7TWW</td>\n      <td>36027</td>\n      <td>430</td>\n      <td>316</td>\n      <td>SRL</td>\n    </tr>\n    <tr>\n      <th>8</th>\n      <td>Italy</td>\n      <td>1678.00</td>\n      <td>1</td>\n      <td>Chrome</td>\n      <td>Windows</td>\n      <td>IT</td>\n      <td>3440</td>\n      <td>CHRGC</td>\n      <td>36016</td>\n      <td>430</td>\n      <td>830</td>\n      <td>SRL</td>\n    </tr>\n  </tbody>\n</table>\n</div>"
     },
     "execution_count": 26,
     "metadata": {},
     "output_type": "execute_result"
    }
   ],
   "source": [
    "test=pd.read_csv('misc_test.csv',decimal=',')\n",
    "test"
   ],
   "metadata": {
    "collapsed": false,
    "pycharm": {
     "name": "#%%\n"
    }
   }
  },
  {
   "cell_type": "code",
   "execution_count": 4,
   "outputs": [
    {
     "data": {
      "text/plain": "              amount  userAgent_isPc  IBAN_bankCode           CAP         SAE  \\\ncount       9.000000        9.000000   9.000000e+00      9.000000    9.000000   \nmean    42382.293333        0.777778   3.816368e+06  33717.666667  477.888889   \nstd     91142.922544        0.440959   1.142012e+07   3803.032573   80.066292   \nmin       120.780000        0.000000   2.008000e+03  30024.000000  430.000000   \n25%       200.000000        1.000000   3.440000e+03  31010.000000  430.000000   \n50%      1000.000000        1.000000   8.749000e+03  31039.000000  430.000000   \n75%      1678.000000        1.000000   8.904000e+03  36027.000000  492.000000   \nmax    264986.740000        1.000000   3.427002e+07  39100.000000  615.000000   \n\n              RAE  \ncount    9.000000  \nmean   415.777778  \nstd    256.841283  \nmin     11.000000  \n25%    314.000000  \n50%    342.000000  \n75%    614.000000  \nmax    830.000000  ",
      "text/html": "<div>\n<style scoped>\n    .dataframe tbody tr th:only-of-type {\n        vertical-align: middle;\n    }\n\n    .dataframe tbody tr th {\n        vertical-align: top;\n    }\n\n    .dataframe thead th {\n        text-align: right;\n    }\n</style>\n<table border=\"1\" class=\"dataframe\">\n  <thead>\n    <tr style=\"text-align: right;\">\n      <th></th>\n      <th>amount</th>\n      <th>userAgent_isPc</th>\n      <th>IBAN_bankCode</th>\n      <th>CAP</th>\n      <th>SAE</th>\n      <th>RAE</th>\n    </tr>\n  </thead>\n  <tbody>\n    <tr>\n      <th>count</th>\n      <td>9.000000</td>\n      <td>9.000000</td>\n      <td>9.000000e+00</td>\n      <td>9.000000</td>\n      <td>9.000000</td>\n      <td>9.000000</td>\n    </tr>\n    <tr>\n      <th>mean</th>\n      <td>42382.293333</td>\n      <td>0.777778</td>\n      <td>3.816368e+06</td>\n      <td>33717.666667</td>\n      <td>477.888889</td>\n      <td>415.777778</td>\n    </tr>\n    <tr>\n      <th>std</th>\n      <td>91142.922544</td>\n      <td>0.440959</td>\n      <td>1.142012e+07</td>\n      <td>3803.032573</td>\n      <td>80.066292</td>\n      <td>256.841283</td>\n    </tr>\n    <tr>\n      <th>min</th>\n      <td>120.780000</td>\n      <td>0.000000</td>\n      <td>2.008000e+03</td>\n      <td>30024.000000</td>\n      <td>430.000000</td>\n      <td>11.000000</td>\n    </tr>\n    <tr>\n      <th>25%</th>\n      <td>200.000000</td>\n      <td>1.000000</td>\n      <td>3.440000e+03</td>\n      <td>31010.000000</td>\n      <td>430.000000</td>\n      <td>314.000000</td>\n    </tr>\n    <tr>\n      <th>50%</th>\n      <td>1000.000000</td>\n      <td>1.000000</td>\n      <td>8.749000e+03</td>\n      <td>31039.000000</td>\n      <td>430.000000</td>\n      <td>342.000000</td>\n    </tr>\n    <tr>\n      <th>75%</th>\n      <td>1678.000000</td>\n      <td>1.000000</td>\n      <td>8.904000e+03</td>\n      <td>36027.000000</td>\n      <td>492.000000</td>\n      <td>614.000000</td>\n    </tr>\n    <tr>\n      <th>max</th>\n      <td>264986.740000</td>\n      <td>1.000000</td>\n      <td>3.427002e+07</td>\n      <td>39100.000000</td>\n      <td>615.000000</td>\n      <td>830.000000</td>\n    </tr>\n  </tbody>\n</table>\n</div>"
     },
     "execution_count": 4,
     "metadata": {},
     "output_type": "execute_result"
    }
   ],
   "source": [
    "test.describe()"
   ],
   "metadata": {
    "collapsed": false,
    "pycharm": {
     "name": "#%%\n"
    }
   }
  },
  {
   "cell_type": "code",
   "execution_count": 5,
   "outputs": [
    {
     "name": "stdout",
     "output_type": "stream",
     "text": [
      "<class 'pandas.core.frame.DataFrame'>\n",
      "RangeIndex: 9 entries, 0 to 8\n",
      "Data columns (total 12 columns):\n",
      " #   Column                   Non-Null Count  Dtype  \n",
      "---  ------                   --------------  -----  \n",
      " 0   country                  9 non-null      object \n",
      " 1   amount                   9 non-null      float64\n",
      " 2   userAgent_isPc           9 non-null      int64  \n",
      " 3   userAgent_browserFamily  9 non-null      object \n",
      " 4   userAgent_osFamily       9 non-null      object \n",
      " 5   IBAN_countryCode         9 non-null      object \n",
      " 6   IBAN_bankCode            9 non-null      int64  \n",
      " 7   SIA                      9 non-null      object \n",
      " 8   CAP                      9 non-null      int64  \n",
      " 9   SAE                      9 non-null      int64  \n",
      " 10  RAE                      9 non-null      int64  \n",
      " 11  companyType              9 non-null      object \n",
      "dtypes: float64(1), int64(5), object(6)\n",
      "memory usage: 992.0+ bytes\n"
     ]
    }
   ],
   "source": [
    "test.info()"
   ],
   "metadata": {
    "collapsed": false,
    "pycharm": {
     "name": "#%%\n"
    }
   }
  },
  {
   "cell_type": "code",
   "execution_count": 27,
   "outputs": [
    {
     "data": {
      "text/plain": "   country     amount  userAgent_isPc  userAgent_browserFamily  \\\n0        0  264986.74               1                        0   \n1        6  111345.77               1                        0   \n2        6    1659.00               1                        4   \n3        6     200.00               1                       11   \n4        6    1000.00               1                        0   \n\n   userAgent_osFamily  IBAN_countryCode  IBAN_bankCode   SIA  CAP  SAE  RAE  \\\n0                   5                 0            364  1482  302    8    4   \n1                   5                 6            376   965  327   25    1   \n2                   5                17            285  1346   62    8  121   \n3                   3                17           1217  2045   58   19  106   \n4                   5                17           1088  1781   87    8   99   \n\n   companyType  \n0           10  \n1           11  \n2           10  \n3            5  \n4           10  ",
      "text/html": "<div>\n<style scoped>\n    .dataframe tbody tr th:only-of-type {\n        vertical-align: middle;\n    }\n\n    .dataframe tbody tr th {\n        vertical-align: top;\n    }\n\n    .dataframe thead th {\n        text-align: right;\n    }\n</style>\n<table border=\"1\" class=\"dataframe\">\n  <thead>\n    <tr style=\"text-align: right;\">\n      <th></th>\n      <th>country</th>\n      <th>amount</th>\n      <th>userAgent_isPc</th>\n      <th>userAgent_browserFamily</th>\n      <th>userAgent_osFamily</th>\n      <th>IBAN_countryCode</th>\n      <th>IBAN_bankCode</th>\n      <th>SIA</th>\n      <th>CAP</th>\n      <th>SAE</th>\n      <th>RAE</th>\n      <th>companyType</th>\n    </tr>\n  </thead>\n  <tbody>\n    <tr>\n      <th>0</th>\n      <td>0</td>\n      <td>264986.74</td>\n      <td>1</td>\n      <td>0</td>\n      <td>5</td>\n      <td>0</td>\n      <td>364</td>\n      <td>1482</td>\n      <td>302</td>\n      <td>8</td>\n      <td>4</td>\n      <td>10</td>\n    </tr>\n    <tr>\n      <th>1</th>\n      <td>6</td>\n      <td>111345.77</td>\n      <td>1</td>\n      <td>0</td>\n      <td>5</td>\n      <td>6</td>\n      <td>376</td>\n      <td>965</td>\n      <td>327</td>\n      <td>25</td>\n      <td>1</td>\n      <td>11</td>\n    </tr>\n    <tr>\n      <th>2</th>\n      <td>6</td>\n      <td>1659.00</td>\n      <td>1</td>\n      <td>4</td>\n      <td>5</td>\n      <td>17</td>\n      <td>285</td>\n      <td>1346</td>\n      <td>62</td>\n      <td>8</td>\n      <td>121</td>\n      <td>10</td>\n    </tr>\n    <tr>\n      <th>3</th>\n      <td>6</td>\n      <td>200.00</td>\n      <td>1</td>\n      <td>11</td>\n      <td>3</td>\n      <td>17</td>\n      <td>1217</td>\n      <td>2045</td>\n      <td>58</td>\n      <td>19</td>\n      <td>106</td>\n      <td>5</td>\n    </tr>\n    <tr>\n      <th>4</th>\n      <td>6</td>\n      <td>1000.00</td>\n      <td>1</td>\n      <td>0</td>\n      <td>5</td>\n      <td>17</td>\n      <td>1088</td>\n      <td>1781</td>\n      <td>87</td>\n      <td>8</td>\n      <td>99</td>\n      <td>10</td>\n    </tr>\n  </tbody>\n</table>\n</div>"
     },
     "execution_count": 27,
     "metadata": {},
     "output_type": "execute_result"
    }
   ],
   "source": [
    "columns_to_label = ['country','userAgent_browserFamily','userAgent_osFamily','IBAN_countryCode','IBAN_bankCode','CAP','SIA','SAE','RAE','companyType']\n",
    "for clmn in columns_to_label:\n",
    "    test[clmn]=test[clmn].apply(str)\n",
    "    test[clmn] = encoder_dict[clmn].transform(test[clmn])\n",
    "test.head()"
   ],
   "metadata": {
    "collapsed": false,
    "pycharm": {
     "name": "#%%\n"
    }
   }
  },
  {
   "cell_type": "code",
   "execution_count": 33,
   "outputs": [
    {
     "data": {
      "text/plain": "array([0, 0, 0, 0, 0, 0, 1, 0, 0], dtype=int64)"
     },
     "execution_count": 33,
     "metadata": {},
     "output_type": "execute_result"
    }
   ],
   "source": [
    "model.predict(test)\n",
    "\n"
   ],
   "metadata": {
    "collapsed": false,
    "pycharm": {
     "name": "#%%\n"
    }
   }
  },
  {
   "cell_type": "code",
   "execution_count": null,
   "outputs": [],
   "source": [],
   "metadata": {
    "collapsed": false,
    "pycharm": {
     "name": "#%%\n"
    }
   }
  }
 ],
 "metadata": {
  "kernelspec": {
   "display_name": "Python 3",
   "language": "python",
   "name": "python3"
  },
  "language_info": {
   "codemirror_mode": {
    "name": "ipython",
    "version": 2
   },
   "file_extension": ".py",
   "mimetype": "text/x-python",
   "name": "python",
   "nbconvert_exporter": "python",
   "pygments_lexer": "ipython2",
   "version": "2.7.6"
  }
 },
 "nbformat": 4,
 "nbformat_minor": 0
}