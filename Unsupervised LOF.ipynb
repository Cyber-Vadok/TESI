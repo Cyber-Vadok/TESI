{
 "cells": [
  {
   "cell_type": "code",
   "execution_count": 3,
   "metadata": {
    "collapsed": true,
    "pycharm": {
     "name": "#%%\n"
    }
   },
   "outputs": [],
   "source": [
    "import pandas as pd\n",
    "import numpy as np\n",
    "from sklearn.neighbors import LocalOutlierFactor"
   ]
  },
  {
   "cell_type": "code",
   "execution_count": 4,
   "outputs": [
    {
     "data": {
      "text/plain": "(90960, 16)"
     },
     "execution_count": 4,
     "metadata": {},
     "output_type": "execute_result"
    }
   ],
   "source": [
    "labeled_df = pd.read_csv('labeled_df.csv')\n",
    "labeled_df.shape"
   ],
   "metadata": {
    "collapsed": false,
    "pycharm": {
     "name": "#%%\n"
    }
   }
  },
  {
   "cell_type": "code",
   "execution_count": 5,
   "outputs": [
    {
     "data": {
      "text/plain": "   customerId                timestamp  country   amount  \\\n0    93000801  2021-09-15 16:13:35.147        6   150.00   \n1    93000801  2021-08-24 10:34:24.487        5  3200.00   \n2    93000801   2021-09-14 16:21:43.33        6  8350.00   \n3    93001001  2021-06-30 09:07:16.733        6   500.00   \n4    93001001  2021-07-12 16:36:02.857        6  1895.68   \n\n                       businessName  userAgent_isPc  userAgent_browserFamily  \\\n0  c7543b6f04850eae288aa52783b33363               1                        4   \n1  c7543b6f04850eae288aa52783b33363               1                        4   \n2  c7543b6f04850eae288aa52783b33363               1                        4   \n3  3f241dfcc38064261fec0f303c2784e5               1                        0   \n4  a5d1eaffa8e325d370665f43624339a1               1                        0   \n\n   userAgent_osFamily  IBAN_countryCode  IBAN_bankCode   SIA  CAP  SAE  RAE  \\\n0                   5                17            699  2013  144   19  113   \n1                   5                17            699  2013  144   19  113   \n2                   5                17            699  2013  144   19  113   \n3                   5                17            123  1781   90    8   99   \n4                   5                17            285  1781   90    8   99   \n\n   companyType  \n0            5  \n1            5  \n2            5  \n3           10  \n4           10  ",
      "text/html": "<div>\n<style scoped>\n    .dataframe tbody tr th:only-of-type {\n        vertical-align: middle;\n    }\n\n    .dataframe tbody tr th {\n        vertical-align: top;\n    }\n\n    .dataframe thead th {\n        text-align: right;\n    }\n</style>\n<table border=\"1\" class=\"dataframe\">\n  <thead>\n    <tr style=\"text-align: right;\">\n      <th></th>\n      <th>customerId</th>\n      <th>timestamp</th>\n      <th>country</th>\n      <th>amount</th>\n      <th>businessName</th>\n      <th>userAgent_isPc</th>\n      <th>userAgent_browserFamily</th>\n      <th>userAgent_osFamily</th>\n      <th>IBAN_countryCode</th>\n      <th>IBAN_bankCode</th>\n      <th>SIA</th>\n      <th>CAP</th>\n      <th>SAE</th>\n      <th>RAE</th>\n      <th>companyType</th>\n    </tr>\n  </thead>\n  <tbody>\n    <tr>\n      <th>0</th>\n      <td>93000801</td>\n      <td>2021-09-15 16:13:35.147</td>\n      <td>6</td>\n      <td>150.00</td>\n      <td>c7543b6f04850eae288aa52783b33363</td>\n      <td>1</td>\n      <td>4</td>\n      <td>5</td>\n      <td>17</td>\n      <td>699</td>\n      <td>2013</td>\n      <td>144</td>\n      <td>19</td>\n      <td>113</td>\n      <td>5</td>\n    </tr>\n    <tr>\n      <th>1</th>\n      <td>93000801</td>\n      <td>2021-08-24 10:34:24.487</td>\n      <td>5</td>\n      <td>3200.00</td>\n      <td>c7543b6f04850eae288aa52783b33363</td>\n      <td>1</td>\n      <td>4</td>\n      <td>5</td>\n      <td>17</td>\n      <td>699</td>\n      <td>2013</td>\n      <td>144</td>\n      <td>19</td>\n      <td>113</td>\n      <td>5</td>\n    </tr>\n    <tr>\n      <th>2</th>\n      <td>93000801</td>\n      <td>2021-09-14 16:21:43.33</td>\n      <td>6</td>\n      <td>8350.00</td>\n      <td>c7543b6f04850eae288aa52783b33363</td>\n      <td>1</td>\n      <td>4</td>\n      <td>5</td>\n      <td>17</td>\n      <td>699</td>\n      <td>2013</td>\n      <td>144</td>\n      <td>19</td>\n      <td>113</td>\n      <td>5</td>\n    </tr>\n    <tr>\n      <th>3</th>\n      <td>93001001</td>\n      <td>2021-06-30 09:07:16.733</td>\n      <td>6</td>\n      <td>500.00</td>\n      <td>3f241dfcc38064261fec0f303c2784e5</td>\n      <td>1</td>\n      <td>0</td>\n      <td>5</td>\n      <td>17</td>\n      <td>123</td>\n      <td>1781</td>\n      <td>90</td>\n      <td>8</td>\n      <td>99</td>\n      <td>10</td>\n    </tr>\n    <tr>\n      <th>4</th>\n      <td>93001001</td>\n      <td>2021-07-12 16:36:02.857</td>\n      <td>6</td>\n      <td>1895.68</td>\n      <td>a5d1eaffa8e325d370665f43624339a1</td>\n      <td>1</td>\n      <td>0</td>\n      <td>5</td>\n      <td>17</td>\n      <td>285</td>\n      <td>1781</td>\n      <td>90</td>\n      <td>8</td>\n      <td>99</td>\n      <td>10</td>\n    </tr>\n  </tbody>\n</table>\n</div>"
     },
     "execution_count": 5,
     "metadata": {},
     "output_type": "execute_result"
    }
   ],
   "source": [
    "labeled_df = labeled_df.drop(columns='Unnamed: 0')\n",
    "labeled_df.head()"
   ],
   "metadata": {
    "collapsed": false,
    "pycharm": {
     "name": "#%%\n"
    }
   }
  },
  {
   "cell_type": "code",
   "execution_count": 6,
   "outputs": [
    {
     "data": {
      "text/plain": "array([1, 1, 1, ..., 1, 1, 1])"
     },
     "execution_count": 6,
     "metadata": {},
     "output_type": "execute_result"
    }
   ],
   "source": [
    "from sklearn.ensemble import IsolationForest\n",
    "X=labeled_df.copy()\n",
    "X=X.drop(columns=['businessName','customerId','timestamp'])\n",
    "clf = LocalOutlierFactor(n_neighbors=20)\n",
    "clf.fit_predict(X)"
   ],
   "metadata": {
    "collapsed": false,
    "pycharm": {
     "name": "#%%\n"
    }
   }
  },
  {
   "cell_type": "code",
   "execution_count": 8,
   "outputs": [],
   "source": [
    "encoder_dict=pickle.load(open('enc_dict.pkl','rb'))\n",
    "columns_to_label = ['country', 'userAgent_browserFamily', 'userAgent_osFamily', 'IBAN_countryCode', 'IBAN_bankCode','CAP', 'SIA', 'SAE', 'RAE','companyType']"
   ],
   "metadata": {
    "collapsed": false,
    "pycharm": {
     "name": "#%%\n"
    }
   }
  },
  {
   "cell_type": "code",
   "execution_count": 9,
   "outputs": [
    {
     "data": {
      "text/plain": "   customerId                timestamp country   amount  \\\n0    93000801  2021-09-15 16:13:35.147   Italy   150.00   \n1    93000801  2021-08-24 10:34:24.487  Greece  3200.00   \n2    93000801   2021-09-14 16:21:43.33   Italy  8350.00   \n3    93001001  2021-06-30 09:07:16.733   Italy   500.00   \n4    93001001  2021-07-12 16:36:02.857   Italy  1895.68   \n\n                       businessName  userAgent_isPc userAgent_browserFamily  \\\n0  c7543b6f04850eae288aa52783b33363               1                 Firefox   \n1  c7543b6f04850eae288aa52783b33363               1                 Firefox   \n2  c7543b6f04850eae288aa52783b33363               1                 Firefox   \n3  3f241dfcc38064261fec0f303c2784e5               1                  Chrome   \n4  a5d1eaffa8e325d370665f43624339a1               1                  Chrome   \n\n  userAgent_osFamily IBAN_countryCode IBAN_bankCode    SIA    CAP  SAE  RAE  \\\n0            Windows               IT          5856  CLFUY  33077  492  630   \n1            Windows               IT          5856  CLFUY  33077  492  630   \n2            Windows               IT          5856  CLFUY  33077  492  630   \n3            Windows               IT          2008  CEFGV  31039  430  505   \n4            Windows               IT          3069  CEFGV  31039  430  505   \n\n  companyType    scores  label  \n0         SAS -1.008318      1  \n1         SAS -1.047175      1  \n2         SAS -1.019783      1  \n3         SRL -1.090301      1  \n4         SRL -1.006947      1  ",
      "text/html": "<div>\n<style scoped>\n    .dataframe tbody tr th:only-of-type {\n        vertical-align: middle;\n    }\n\n    .dataframe tbody tr th {\n        vertical-align: top;\n    }\n\n    .dataframe thead th {\n        text-align: right;\n    }\n</style>\n<table border=\"1\" class=\"dataframe\">\n  <thead>\n    <tr style=\"text-align: right;\">\n      <th></th>\n      <th>customerId</th>\n      <th>timestamp</th>\n      <th>country</th>\n      <th>amount</th>\n      <th>businessName</th>\n      <th>userAgent_isPc</th>\n      <th>userAgent_browserFamily</th>\n      <th>userAgent_osFamily</th>\n      <th>IBAN_countryCode</th>\n      <th>IBAN_bankCode</th>\n      <th>SIA</th>\n      <th>CAP</th>\n      <th>SAE</th>\n      <th>RAE</th>\n      <th>companyType</th>\n      <th>scores</th>\n      <th>label</th>\n    </tr>\n  </thead>\n  <tbody>\n    <tr>\n      <th>0</th>\n      <td>93000801</td>\n      <td>2021-09-15 16:13:35.147</td>\n      <td>Italy</td>\n      <td>150.00</td>\n      <td>c7543b6f04850eae288aa52783b33363</td>\n      <td>1</td>\n      <td>Firefox</td>\n      <td>Windows</td>\n      <td>IT</td>\n      <td>5856</td>\n      <td>CLFUY</td>\n      <td>33077</td>\n      <td>492</td>\n      <td>630</td>\n      <td>SAS</td>\n      <td>-1.008318</td>\n      <td>1</td>\n    </tr>\n    <tr>\n      <th>1</th>\n      <td>93000801</td>\n      <td>2021-08-24 10:34:24.487</td>\n      <td>Greece</td>\n      <td>3200.00</td>\n      <td>c7543b6f04850eae288aa52783b33363</td>\n      <td>1</td>\n      <td>Firefox</td>\n      <td>Windows</td>\n      <td>IT</td>\n      <td>5856</td>\n      <td>CLFUY</td>\n      <td>33077</td>\n      <td>492</td>\n      <td>630</td>\n      <td>SAS</td>\n      <td>-1.047175</td>\n      <td>1</td>\n    </tr>\n    <tr>\n      <th>2</th>\n      <td>93000801</td>\n      <td>2021-09-14 16:21:43.33</td>\n      <td>Italy</td>\n      <td>8350.00</td>\n      <td>c7543b6f04850eae288aa52783b33363</td>\n      <td>1</td>\n      <td>Firefox</td>\n      <td>Windows</td>\n      <td>IT</td>\n      <td>5856</td>\n      <td>CLFUY</td>\n      <td>33077</td>\n      <td>492</td>\n      <td>630</td>\n      <td>SAS</td>\n      <td>-1.019783</td>\n      <td>1</td>\n    </tr>\n    <tr>\n      <th>3</th>\n      <td>93001001</td>\n      <td>2021-06-30 09:07:16.733</td>\n      <td>Italy</td>\n      <td>500.00</td>\n      <td>3f241dfcc38064261fec0f303c2784e5</td>\n      <td>1</td>\n      <td>Chrome</td>\n      <td>Windows</td>\n      <td>IT</td>\n      <td>2008</td>\n      <td>CEFGV</td>\n      <td>31039</td>\n      <td>430</td>\n      <td>505</td>\n      <td>SRL</td>\n      <td>-1.090301</td>\n      <td>1</td>\n    </tr>\n    <tr>\n      <th>4</th>\n      <td>93001001</td>\n      <td>2021-07-12 16:36:02.857</td>\n      <td>Italy</td>\n      <td>1895.68</td>\n      <td>a5d1eaffa8e325d370665f43624339a1</td>\n      <td>1</td>\n      <td>Chrome</td>\n      <td>Windows</td>\n      <td>IT</td>\n      <td>3069</td>\n      <td>CEFGV</td>\n      <td>31039</td>\n      <td>430</td>\n      <td>505</td>\n      <td>SRL</td>\n      <td>-1.006947</td>\n      <td>1</td>\n    </tr>\n  </tbody>\n</table>\n</div>"
     },
     "execution_count": 9,
     "metadata": {},
     "output_type": "execute_result"
    }
   ],
   "source": [
    "def inverse_and_scores(if_df,labeled_df,enc_dict,columns,model):\n",
    "    df_copy=labeled_df.copy()\n",
    "    label=model.fit_predict(X)\n",
    "    scores=model.negative_outlier_factor_\n",
    "\n",
    "    for clmn in columns:\n",
    "        df_copy[clmn]=enc_dict[clmn].inverse_transform(df_copy[clmn])\n",
    "\n",
    "    df_copy['scores'] = scores\n",
    "    df_copy['label'] = label\n",
    "\n",
    "    return df_copy\n",
    "\n",
    "df_scores=inverse_and_scores(X,labeled_df,encoder_dict,columns_to_label,clf)\n",
    "\n",
    "df_scores.head()"
   ],
   "metadata": {
    "collapsed": false,
    "pycharm": {
     "name": "#%%\n"
    }
   }
  },
  {
   "cell_type": "code",
   "execution_count": 1,
   "outputs": [
    {
     "ename": "NameError",
     "evalue": "name 'df_scores' is not defined",
     "output_type": "error",
     "traceback": [
      "\u001B[1;31m---------------------------------------------------------------------------\u001B[0m",
      "\u001B[1;31mNameError\u001B[0m                                 Traceback (most recent call last)",
      "Input \u001B[1;32mIn [1]\u001B[0m, in \u001B[0;36m<cell line: 1>\u001B[1;34m()\u001B[0m\n\u001B[1;32m----> 1\u001B[0m \u001B[43mdf_scores\u001B[49m[df_scores[\u001B[38;5;124m'\u001B[39m\u001B[38;5;124mlabel\u001B[39m\u001B[38;5;124m'\u001B[39m]\u001B[38;5;241m==\u001B[39m\u001B[38;5;241m-\u001B[39m\u001B[38;5;241m1\u001B[39m]\u001B[38;5;241m.\u001B[39msort_values(\u001B[38;5;124m'\u001B[39m\u001B[38;5;124mscores\u001B[39m\u001B[38;5;124m'\u001B[39m)\n",
      "\u001B[1;31mNameError\u001B[0m: name 'df_scores' is not defined"
     ]
    }
   ],
   "source": [
    "df_scores[df_scores['label']==-1].sort_values('scores')"
   ],
   "metadata": {
    "collapsed": false,
    "pycharm": {
     "name": "#%%\n"
    }
   }
  },
  {
   "cell_type": "code",
   "execution_count": null,
   "outputs": [],
   "source": [],
   "metadata": {
    "collapsed": false,
    "pycharm": {
     "name": "#%%\n"
    }
   }
  }
 ],
 "metadata": {
  "kernelspec": {
   "display_name": "Python 3",
   "language": "python",
   "name": "python3"
  },
  "language_info": {
   "codemirror_mode": {
    "name": "ipython",
    "version": 2
   },
   "file_extension": ".py",
   "mimetype": "text/x-python",
   "name": "python",
   "nbconvert_exporter": "python",
   "pygments_lexer": "ipython2",
   "version": "2.7.6"
  }
 },
 "nbformat": 4,
 "nbformat_minor": 0
}