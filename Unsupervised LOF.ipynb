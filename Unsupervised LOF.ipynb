{
 "cells": [
  {
   "cell_type": "code",
   "execution_count": 1,
   "metadata": {
    "collapsed": true,
    "pycharm": {
     "name": "#%%\n"
    }
   },
   "outputs": [],
   "source": [
    "import pandas as pd\n",
    "import numpy as np\n",
    "from sklearn.neighbors import LocalOutlierFactor"
   ]
  },
  {
   "cell_type": "code",
   "execution_count": 2,
   "outputs": [
    {
     "data": {
      "text/plain": "(90960, 16)"
     },
     "execution_count": 2,
     "metadata": {},
     "output_type": "execute_result"
    }
   ],
   "source": [
    "labeled_df = pd.read_csv('labeled_df.csv')\n",
    "labeled_df.shape"
   ],
   "metadata": {
    "collapsed": false,
    "pycharm": {
     "name": "#%%\n"
    }
   }
  },
  {
   "cell_type": "code",
   "execution_count": 3,
   "outputs": [
    {
     "data": {
      "text/plain": "   customerId                timestamp  country   amount  \\\n0    93000801  2021-09-15 16:13:35.147        6   150.00   \n1    93000801  2021-08-24 10:34:24.487        5  3200.00   \n2    93000801   2021-09-14 16:21:43.33        6  8350.00   \n3    93001001  2021-06-30 09:07:16.733        6   500.00   \n4    93001001  2021-07-12 16:36:02.857        6  1895.68   \n\n                       businessName  userAgent_isPc  userAgent_browserFamily  \\\n0  c7543b6f04850eae288aa52783b33363               1                        4   \n1  c7543b6f04850eae288aa52783b33363               1                        4   \n2  c7543b6f04850eae288aa52783b33363               1                        4   \n3  3f241dfcc38064261fec0f303c2784e5               1                        0   \n4  a5d1eaffa8e325d370665f43624339a1               1                        0   \n\n   userAgent_osFamily  IBAN_countryCode  IBAN_bankCode   SIA  CAP  SAE  RAE  \\\n0                   5                17            699  2013  144   19  113   \n1                   5                17            699  2013  144   19  113   \n2                   5                17            699  2013  144   19  113   \n3                   5                17            123  1781   90    8   99   \n4                   5                17            285  1781   90    8   99   \n\n   companyType  \n0            5  \n1            5  \n2            5  \n3           10  \n4           10  ",
      "text/html": "<div>\n<style scoped>\n    .dataframe tbody tr th:only-of-type {\n        vertical-align: middle;\n    }\n\n    .dataframe tbody tr th {\n        vertical-align: top;\n    }\n\n    .dataframe thead th {\n        text-align: right;\n    }\n</style>\n<table border=\"1\" class=\"dataframe\">\n  <thead>\n    <tr style=\"text-align: right;\">\n      <th></th>\n      <th>customerId</th>\n      <th>timestamp</th>\n      <th>country</th>\n      <th>amount</th>\n      <th>businessName</th>\n      <th>userAgent_isPc</th>\n      <th>userAgent_browserFamily</th>\n      <th>userAgent_osFamily</th>\n      <th>IBAN_countryCode</th>\n      <th>IBAN_bankCode</th>\n      <th>SIA</th>\n      <th>CAP</th>\n      <th>SAE</th>\n      <th>RAE</th>\n      <th>companyType</th>\n    </tr>\n  </thead>\n  <tbody>\n    <tr>\n      <th>0</th>\n      <td>93000801</td>\n      <td>2021-09-15 16:13:35.147</td>\n      <td>6</td>\n      <td>150.00</td>\n      <td>c7543b6f04850eae288aa52783b33363</td>\n      <td>1</td>\n      <td>4</td>\n      <td>5</td>\n      <td>17</td>\n      <td>699</td>\n      <td>2013</td>\n      <td>144</td>\n      <td>19</td>\n      <td>113</td>\n      <td>5</td>\n    </tr>\n    <tr>\n      <th>1</th>\n      <td>93000801</td>\n      <td>2021-08-24 10:34:24.487</td>\n      <td>5</td>\n      <td>3200.00</td>\n      <td>c7543b6f04850eae288aa52783b33363</td>\n      <td>1</td>\n      <td>4</td>\n      <td>5</td>\n      <td>17</td>\n      <td>699</td>\n      <td>2013</td>\n      <td>144</td>\n      <td>19</td>\n      <td>113</td>\n      <td>5</td>\n    </tr>\n    <tr>\n      <th>2</th>\n      <td>93000801</td>\n      <td>2021-09-14 16:21:43.33</td>\n      <td>6</td>\n      <td>8350.00</td>\n      <td>c7543b6f04850eae288aa52783b33363</td>\n      <td>1</td>\n      <td>4</td>\n      <td>5</td>\n      <td>17</td>\n      <td>699</td>\n      <td>2013</td>\n      <td>144</td>\n      <td>19</td>\n      <td>113</td>\n      <td>5</td>\n    </tr>\n    <tr>\n      <th>3</th>\n      <td>93001001</td>\n      <td>2021-06-30 09:07:16.733</td>\n      <td>6</td>\n      <td>500.00</td>\n      <td>3f241dfcc38064261fec0f303c2784e5</td>\n      <td>1</td>\n      <td>0</td>\n      <td>5</td>\n      <td>17</td>\n      <td>123</td>\n      <td>1781</td>\n      <td>90</td>\n      <td>8</td>\n      <td>99</td>\n      <td>10</td>\n    </tr>\n    <tr>\n      <th>4</th>\n      <td>93001001</td>\n      <td>2021-07-12 16:36:02.857</td>\n      <td>6</td>\n      <td>1895.68</td>\n      <td>a5d1eaffa8e325d370665f43624339a1</td>\n      <td>1</td>\n      <td>0</td>\n      <td>5</td>\n      <td>17</td>\n      <td>285</td>\n      <td>1781</td>\n      <td>90</td>\n      <td>8</td>\n      <td>99</td>\n      <td>10</td>\n    </tr>\n  </tbody>\n</table>\n</div>"
     },
     "execution_count": 3,
     "metadata": {},
     "output_type": "execute_result"
    }
   ],
   "source": [
    "labeled_df = labeled_df.drop(columns='Unnamed: 0')\n",
    "labeled_df.head()"
   ],
   "metadata": {
    "collapsed": false,
    "pycharm": {
     "name": "#%%\n"
    }
   }
  },
  {
   "cell_type": "code",
   "execution_count": 4,
   "outputs": [
    {
     "data": {
      "text/plain": "array([1, 1, 1, ..., 1, 1, 1])"
     },
     "execution_count": 4,
     "metadata": {},
     "output_type": "execute_result"
    }
   ],
   "source": [
    "from sklearn.ensemble import IsolationForest\n",
    "X=labeled_df.copy()\n",
    "X=X.drop(columns=['businessName','customerId','timestamp'])\n",
    "clf = LocalOutlierFactor(n_neighbors=20)\n",
    "clf.fit_predict(X)"
   ],
   "metadata": {
    "collapsed": false,
    "pycharm": {
     "name": "#%%\n"
    }
   }
  },
  {
   "cell_type": "code",
   "execution_count": 5,
   "outputs": [],
   "source": [
    "import pickle\n",
    "encoder_dict=pickle.load(open('enc_dict.pkl','rb'))\n",
    "columns_to_label = ['country', 'userAgent_browserFamily', 'userAgent_osFamily', 'IBAN_countryCode', 'IBAN_bankCode','CAP', 'SIA', 'SAE', 'RAE','companyType']"
   ],
   "metadata": {
    "collapsed": false,
    "pycharm": {
     "name": "#%%\n"
    }
   }
  },
  {
   "cell_type": "code",
   "execution_count": 6,
   "outputs": [
    {
     "data": {
      "text/plain": "   customerId                timestamp country   amount  \\\n0    93000801  2021-09-15 16:13:35.147   Italy   150.00   \n1    93000801  2021-08-24 10:34:24.487  Greece  3200.00   \n2    93000801   2021-09-14 16:21:43.33   Italy  8350.00   \n3    93001001  2021-06-30 09:07:16.733   Italy   500.00   \n4    93001001  2021-07-12 16:36:02.857   Italy  1895.68   \n\n                       businessName  userAgent_isPc userAgent_browserFamily  \\\n0  c7543b6f04850eae288aa52783b33363               1                 Firefox   \n1  c7543b6f04850eae288aa52783b33363               1                 Firefox   \n2  c7543b6f04850eae288aa52783b33363               1                 Firefox   \n3  3f241dfcc38064261fec0f303c2784e5               1                  Chrome   \n4  a5d1eaffa8e325d370665f43624339a1               1                  Chrome   \n\n  userAgent_osFamily IBAN_countryCode IBAN_bankCode    SIA    CAP  SAE  RAE  \\\n0            Windows               IT          5856  CLFUY  33077  492  630   \n1            Windows               IT          5856  CLFUY  33077  492  630   \n2            Windows               IT          5856  CLFUY  33077  492  630   \n3            Windows               IT          2008  CEFGV  31039  430  505   \n4            Windows               IT          3069  CEFGV  31039  430  505   \n\n  companyType    scores  label  \n0         SAS -1.008318      1  \n1         SAS -1.047175      1  \n2         SAS -1.019783      1  \n3         SRL -1.090301      1  \n4         SRL -1.006947      1  ",
      "text/html": "<div>\n<style scoped>\n    .dataframe tbody tr th:only-of-type {\n        vertical-align: middle;\n    }\n\n    .dataframe tbody tr th {\n        vertical-align: top;\n    }\n\n    .dataframe thead th {\n        text-align: right;\n    }\n</style>\n<table border=\"1\" class=\"dataframe\">\n  <thead>\n    <tr style=\"text-align: right;\">\n      <th></th>\n      <th>customerId</th>\n      <th>timestamp</th>\n      <th>country</th>\n      <th>amount</th>\n      <th>businessName</th>\n      <th>userAgent_isPc</th>\n      <th>userAgent_browserFamily</th>\n      <th>userAgent_osFamily</th>\n      <th>IBAN_countryCode</th>\n      <th>IBAN_bankCode</th>\n      <th>SIA</th>\n      <th>CAP</th>\n      <th>SAE</th>\n      <th>RAE</th>\n      <th>companyType</th>\n      <th>scores</th>\n      <th>label</th>\n    </tr>\n  </thead>\n  <tbody>\n    <tr>\n      <th>0</th>\n      <td>93000801</td>\n      <td>2021-09-15 16:13:35.147</td>\n      <td>Italy</td>\n      <td>150.00</td>\n      <td>c7543b6f04850eae288aa52783b33363</td>\n      <td>1</td>\n      <td>Firefox</td>\n      <td>Windows</td>\n      <td>IT</td>\n      <td>5856</td>\n      <td>CLFUY</td>\n      <td>33077</td>\n      <td>492</td>\n      <td>630</td>\n      <td>SAS</td>\n      <td>-1.008318</td>\n      <td>1</td>\n    </tr>\n    <tr>\n      <th>1</th>\n      <td>93000801</td>\n      <td>2021-08-24 10:34:24.487</td>\n      <td>Greece</td>\n      <td>3200.00</td>\n      <td>c7543b6f04850eae288aa52783b33363</td>\n      <td>1</td>\n      <td>Firefox</td>\n      <td>Windows</td>\n      <td>IT</td>\n      <td>5856</td>\n      <td>CLFUY</td>\n      <td>33077</td>\n      <td>492</td>\n      <td>630</td>\n      <td>SAS</td>\n      <td>-1.047175</td>\n      <td>1</td>\n    </tr>\n    <tr>\n      <th>2</th>\n      <td>93000801</td>\n      <td>2021-09-14 16:21:43.33</td>\n      <td>Italy</td>\n      <td>8350.00</td>\n      <td>c7543b6f04850eae288aa52783b33363</td>\n      <td>1</td>\n      <td>Firefox</td>\n      <td>Windows</td>\n      <td>IT</td>\n      <td>5856</td>\n      <td>CLFUY</td>\n      <td>33077</td>\n      <td>492</td>\n      <td>630</td>\n      <td>SAS</td>\n      <td>-1.019783</td>\n      <td>1</td>\n    </tr>\n    <tr>\n      <th>3</th>\n      <td>93001001</td>\n      <td>2021-06-30 09:07:16.733</td>\n      <td>Italy</td>\n      <td>500.00</td>\n      <td>3f241dfcc38064261fec0f303c2784e5</td>\n      <td>1</td>\n      <td>Chrome</td>\n      <td>Windows</td>\n      <td>IT</td>\n      <td>2008</td>\n      <td>CEFGV</td>\n      <td>31039</td>\n      <td>430</td>\n      <td>505</td>\n      <td>SRL</td>\n      <td>-1.090301</td>\n      <td>1</td>\n    </tr>\n    <tr>\n      <th>4</th>\n      <td>93001001</td>\n      <td>2021-07-12 16:36:02.857</td>\n      <td>Italy</td>\n      <td>1895.68</td>\n      <td>a5d1eaffa8e325d370665f43624339a1</td>\n      <td>1</td>\n      <td>Chrome</td>\n      <td>Windows</td>\n      <td>IT</td>\n      <td>3069</td>\n      <td>CEFGV</td>\n      <td>31039</td>\n      <td>430</td>\n      <td>505</td>\n      <td>SRL</td>\n      <td>-1.006947</td>\n      <td>1</td>\n    </tr>\n  </tbody>\n</table>\n</div>"
     },
     "execution_count": 6,
     "metadata": {},
     "output_type": "execute_result"
    }
   ],
   "source": [
    "def inverse_and_scores(if_df,labeled_df,enc_dict,columns,model):\n",
    "    df_copy=labeled_df.copy()\n",
    "    label=model.fit_predict(X)\n",
    "    scores=model.negative_outlier_factor_\n",
    "\n",
    "    for clmn in columns:\n",
    "        df_copy[clmn]=enc_dict[clmn].inverse_transform(df_copy[clmn])\n",
    "\n",
    "    df_copy['scores'] = scores\n",
    "    df_copy['label'] = label\n",
    "\n",
    "    return df_copy\n",
    "\n",
    "df_scores=inverse_and_scores(X,labeled_df,encoder_dict,columns_to_label,clf)\n",
    "\n",
    "df_scores.head()"
   ],
   "metadata": {
    "collapsed": false,
    "pycharm": {
     "name": "#%%\n"
    }
   }
  },
  {
   "cell_type": "code",
   "execution_count": 7,
   "outputs": [
    {
     "data": {
      "text/plain": "       customerId                timestamp country   amount  \\\n27552  2814040702    2021-09-06 11:04:53.9   Italy   388.00   \n10911    11276952   2021-07-22 09:26:33.55   Italy   183.00   \n52053    58140407   2021-07-02 10:40:59.86   Italy   300.00   \n3479      4094604  2021-08-03 09:46:18.273   Italy   260.00   \n68488    76176189  2021-08-05 11:03:05.137   Italy   320.00   \n...           ...                      ...     ...      ...   \n68091    76175189  2021-09-06 17:30:32.343   Italy   130.50   \n71839  8127180601   2021-07-16 16:23:43.93   Italy  1599.00   \n20813  2093556604  2021-08-21 22:48:11.467   Italy   364.90   \n42334    44152022   2021-09-15 13:30:50.57   Italy  1724.00   \n53059    58863923  2021-08-31 18:36:40.967   Italy  1240.04   \n\n                           businessName  userAgent_isPc  \\\n27552  91db8a441bec53b138f729d3f8eeee5e               1   \n10911  215aeb868bb6b98f67c945bfbde88acb               1   \n52053  ef3a64279e80b976c722908182588b52               1   \n3479   a56e10b47d580b91c1472ecdab10f863               1   \n68488  98e7daa3bcad19fc71ede7e3a5f548ee               1   \n...                                 ...             ...   \n68091  539c0972470ff80a630a68e29d404c75               1   \n71839  d400355f609ee2ed39a27a6a42681eb8               1   \n20813  9221b60d2049a76e9e1ca98773b6e58c               1   \n42334  b26be0aca65be9abbddeff2c9a20a777               1   \n53059  d66182a19115923e7c930a3d0433aeeb               1   \n\n      userAgent_browserFamily userAgent_osFamily IBAN_countryCode  \\\n27552                  Chrome            Windows               IT   \n10911                  Chrome            Windows               IT   \n52053                  Chrome           Mac OS X               BE   \n3479                   Chrome            Windows               IT   \n68488                  Chrome           Mac OS X               IT   \n...                       ...                ...              ...   \n68091                  Chrome            Windows               IT   \n71839                 Firefox            Windows               IT   \n20813                    Edge            Windows               IT   \n42334                  Chrome            Windows               IT   \n53059                 Firefox            Windows               IT   \n\n      IBAN_bankCode    SIA    CAP  SAE  RAE companyType        scores  label  \n27552          8749  CLMWZ  31040  430  231         SRL -1.007498e+12     -1  \n10911          8749  CKZYT  31038  430  314         SRL -8.370701e+11     -1  \n52053           967  CKMJR  31020  430  161         SRL -8.301205e+11     -1  \n3479           8904  CLKXT  35010  430  314         SRL -7.522633e+11     -1  \n68488          8728  CM5CR  30174  492  614         SAS -7.247043e+11     -1  \n...             ...    ...    ...  ...  ...         ...           ...    ...  \n68091          6045  AWEMQ  39040  430  505         SRL -1.501008e+00     -1  \n71839         36081  BH4SZ  36020  430  353         SRL -1.500807e+00     -1  \n20813          5142  AVJHW  39100  430  617         SRL -1.500609e+00     -1  \n42334          5856  B2XJX  36028  430  723         SRL -1.500333e+00     -1  \n53059          7084  AQF6C  36062  430  231         SRL -1.500267e+00     -1  \n\n[926 rows x 17 columns]",
      "text/html": "<div>\n<style scoped>\n    .dataframe tbody tr th:only-of-type {\n        vertical-align: middle;\n    }\n\n    .dataframe tbody tr th {\n        vertical-align: top;\n    }\n\n    .dataframe thead th {\n        text-align: right;\n    }\n</style>\n<table border=\"1\" class=\"dataframe\">\n  <thead>\n    <tr style=\"text-align: right;\">\n      <th></th>\n      <th>customerId</th>\n      <th>timestamp</th>\n      <th>country</th>\n      <th>amount</th>\n      <th>businessName</th>\n      <th>userAgent_isPc</th>\n      <th>userAgent_browserFamily</th>\n      <th>userAgent_osFamily</th>\n      <th>IBAN_countryCode</th>\n      <th>IBAN_bankCode</th>\n      <th>SIA</th>\n      <th>CAP</th>\n      <th>SAE</th>\n      <th>RAE</th>\n      <th>companyType</th>\n      <th>scores</th>\n      <th>label</th>\n    </tr>\n  </thead>\n  <tbody>\n    <tr>\n      <th>27552</th>\n      <td>2814040702</td>\n      <td>2021-09-06 11:04:53.9</td>\n      <td>Italy</td>\n      <td>388.00</td>\n      <td>91db8a441bec53b138f729d3f8eeee5e</td>\n      <td>1</td>\n      <td>Chrome</td>\n      <td>Windows</td>\n      <td>IT</td>\n      <td>8749</td>\n      <td>CLMWZ</td>\n      <td>31040</td>\n      <td>430</td>\n      <td>231</td>\n      <td>SRL</td>\n      <td>-1.007498e+12</td>\n      <td>-1</td>\n    </tr>\n    <tr>\n      <th>10911</th>\n      <td>11276952</td>\n      <td>2021-07-22 09:26:33.55</td>\n      <td>Italy</td>\n      <td>183.00</td>\n      <td>215aeb868bb6b98f67c945bfbde88acb</td>\n      <td>1</td>\n      <td>Chrome</td>\n      <td>Windows</td>\n      <td>IT</td>\n      <td>8749</td>\n      <td>CKZYT</td>\n      <td>31038</td>\n      <td>430</td>\n      <td>314</td>\n      <td>SRL</td>\n      <td>-8.370701e+11</td>\n      <td>-1</td>\n    </tr>\n    <tr>\n      <th>52053</th>\n      <td>58140407</td>\n      <td>2021-07-02 10:40:59.86</td>\n      <td>Italy</td>\n      <td>300.00</td>\n      <td>ef3a64279e80b976c722908182588b52</td>\n      <td>1</td>\n      <td>Chrome</td>\n      <td>Mac OS X</td>\n      <td>BE</td>\n      <td>967</td>\n      <td>CKMJR</td>\n      <td>31020</td>\n      <td>430</td>\n      <td>161</td>\n      <td>SRL</td>\n      <td>-8.301205e+11</td>\n      <td>-1</td>\n    </tr>\n    <tr>\n      <th>3479</th>\n      <td>4094604</td>\n      <td>2021-08-03 09:46:18.273</td>\n      <td>Italy</td>\n      <td>260.00</td>\n      <td>a56e10b47d580b91c1472ecdab10f863</td>\n      <td>1</td>\n      <td>Chrome</td>\n      <td>Windows</td>\n      <td>IT</td>\n      <td>8904</td>\n      <td>CLKXT</td>\n      <td>35010</td>\n      <td>430</td>\n      <td>314</td>\n      <td>SRL</td>\n      <td>-7.522633e+11</td>\n      <td>-1</td>\n    </tr>\n    <tr>\n      <th>68488</th>\n      <td>76176189</td>\n      <td>2021-08-05 11:03:05.137</td>\n      <td>Italy</td>\n      <td>320.00</td>\n      <td>98e7daa3bcad19fc71ede7e3a5f548ee</td>\n      <td>1</td>\n      <td>Chrome</td>\n      <td>Mac OS X</td>\n      <td>IT</td>\n      <td>8728</td>\n      <td>CM5CR</td>\n      <td>30174</td>\n      <td>492</td>\n      <td>614</td>\n      <td>SAS</td>\n      <td>-7.247043e+11</td>\n      <td>-1</td>\n    </tr>\n    <tr>\n      <th>...</th>\n      <td>...</td>\n      <td>...</td>\n      <td>...</td>\n      <td>...</td>\n      <td>...</td>\n      <td>...</td>\n      <td>...</td>\n      <td>...</td>\n      <td>...</td>\n      <td>...</td>\n      <td>...</td>\n      <td>...</td>\n      <td>...</td>\n      <td>...</td>\n      <td>...</td>\n      <td>...</td>\n      <td>...</td>\n    </tr>\n    <tr>\n      <th>68091</th>\n      <td>76175189</td>\n      <td>2021-09-06 17:30:32.343</td>\n      <td>Italy</td>\n      <td>130.50</td>\n      <td>539c0972470ff80a630a68e29d404c75</td>\n      <td>1</td>\n      <td>Chrome</td>\n      <td>Windows</td>\n      <td>IT</td>\n      <td>6045</td>\n      <td>AWEMQ</td>\n      <td>39040</td>\n      <td>430</td>\n      <td>505</td>\n      <td>SRL</td>\n      <td>-1.501008e+00</td>\n      <td>-1</td>\n    </tr>\n    <tr>\n      <th>71839</th>\n      <td>8127180601</td>\n      <td>2021-07-16 16:23:43.93</td>\n      <td>Italy</td>\n      <td>1599.00</td>\n      <td>d400355f609ee2ed39a27a6a42681eb8</td>\n      <td>1</td>\n      <td>Firefox</td>\n      <td>Windows</td>\n      <td>IT</td>\n      <td>36081</td>\n      <td>BH4SZ</td>\n      <td>36020</td>\n      <td>430</td>\n      <td>353</td>\n      <td>SRL</td>\n      <td>-1.500807e+00</td>\n      <td>-1</td>\n    </tr>\n    <tr>\n      <th>20813</th>\n      <td>2093556604</td>\n      <td>2021-08-21 22:48:11.467</td>\n      <td>Italy</td>\n      <td>364.90</td>\n      <td>9221b60d2049a76e9e1ca98773b6e58c</td>\n      <td>1</td>\n      <td>Edge</td>\n      <td>Windows</td>\n      <td>IT</td>\n      <td>5142</td>\n      <td>AVJHW</td>\n      <td>39100</td>\n      <td>430</td>\n      <td>617</td>\n      <td>SRL</td>\n      <td>-1.500609e+00</td>\n      <td>-1</td>\n    </tr>\n    <tr>\n      <th>42334</th>\n      <td>44152022</td>\n      <td>2021-09-15 13:30:50.57</td>\n      <td>Italy</td>\n      <td>1724.00</td>\n      <td>b26be0aca65be9abbddeff2c9a20a777</td>\n      <td>1</td>\n      <td>Chrome</td>\n      <td>Windows</td>\n      <td>IT</td>\n      <td>5856</td>\n      <td>B2XJX</td>\n      <td>36028</td>\n      <td>430</td>\n      <td>723</td>\n      <td>SRL</td>\n      <td>-1.500333e+00</td>\n      <td>-1</td>\n    </tr>\n    <tr>\n      <th>53059</th>\n      <td>58863923</td>\n      <td>2021-08-31 18:36:40.967</td>\n      <td>Italy</td>\n      <td>1240.04</td>\n      <td>d66182a19115923e7c930a3d0433aeeb</td>\n      <td>1</td>\n      <td>Firefox</td>\n      <td>Windows</td>\n      <td>IT</td>\n      <td>7084</td>\n      <td>AQF6C</td>\n      <td>36062</td>\n      <td>430</td>\n      <td>231</td>\n      <td>SRL</td>\n      <td>-1.500267e+00</td>\n      <td>-1</td>\n    </tr>\n  </tbody>\n</table>\n<p>926 rows × 17 columns</p>\n</div>"
     },
     "execution_count": 7,
     "metadata": {},
     "output_type": "execute_result"
    }
   ],
   "source": [
    "df_scores[df_scores['label']==-1].sort_values('scores')"
   ],
   "metadata": {
    "collapsed": false,
    "pycharm": {
     "name": "#%%\n"
    }
   }
  },
  {
   "cell_type": "code",
   "execution_count": 73,
   "outputs": [],
   "source": [
    "df_scores.to_csv('LOF_scores.csv')"
   ],
   "metadata": {
    "collapsed": false,
    "pycharm": {
     "name": "#%%\n"
    }
   }
  }
 ],
 "metadata": {
  "kernelspec": {
   "display_name": "Python 3",
   "language": "python",
   "name": "python3"
  },
  "language_info": {
   "codemirror_mode": {
    "name": "ipython",
    "version": 2
   },
   "file_extension": ".py",
   "mimetype": "text/x-python",
   "name": "python",
   "nbconvert_exporter": "python",
   "pygments_lexer": "ipython2",
   "version": "2.7.6"
  }
 },
 "nbformat": 4,
 "nbformat_minor": 0
}